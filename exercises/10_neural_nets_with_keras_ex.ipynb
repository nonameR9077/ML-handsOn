{
 "cells": [
  {
   "cell_type": "markdown",
   "metadata": {},
   "source": [
    "**Chapter 10 – Introduction to Artificial Neural Networks with Keras**\n",
    "\n",
    "Homework notebook\n",
    "\n",
    "### 학번:  20180624\n",
    "\n",
    "### 이름:  최서호\n",
    "\n",
    "#### tested on google colab"
   ]
  },
  {
   "cell_type": "markdown",
   "metadata": {},
   "source": [
    "<table align=\"left\">\n",
    "  <td>\n",
    "    <a target=\"_blank\" href=\"https://colab.research.google.com/github/ageron/handson-ml2/blob/master/10_neural_nets_with_keras.ipynb\"><img src=\"https://www.tensorflow.org/images/colab_logo_32px.png\" />Run in Google Colab</a>\n",
    "  </td>\n",
    "</table>"
   ]
  },
  {
   "cell_type": "markdown",
   "metadata": {},
   "source": [
    "# Setup"
   ]
  },
  {
   "cell_type": "markdown",
   "metadata": {},
   "source": [
    "First, let's import a few common modules, ensure MatplotLib plots figures inline and prepare a function to save the figures. We also check that Python 3.5 or later is installed (although Python 2.x may work, it is deprecated so we strongly recommend you use Python 3 instead), as well as Scikit-Learn ≥0.20 and TensorFlow ≥2.0."
   ]
  },
  {
   "cell_type": "code",
   "execution_count": 1,
   "outputs": [],
   "source": [
    "# to use tf.keras as 2.x (3.x only works on tf 2.16)\n",
    "import os\n",
    "os.environ[\"TF_USE_LEGACY_KERAS\"] = \"1\""
   ],
   "metadata": {
    "collapsed": false,
    "ExecuteTime": {
     "end_time": "2024-04-08T07:14:21.899222300Z",
     "start_time": "2024-04-08T07:14:21.880222200Z"
    }
   }
  },
  {
   "cell_type": "code",
   "execution_count": 3,
   "metadata": {
    "ExecuteTime": {
     "end_time": "2024-04-08T07:14:26.254808600Z",
     "start_time": "2024-04-08T07:14:26.184798300Z"
    }
   },
   "outputs": [
    {
     "name": "stdout",
     "output_type": "stream",
     "text": [
      "Python:  sys.version_info(major=3, minor=9, micro=19, releaselevel='final', serial=0)\n",
      "1.4.1.post1\n",
      "TF version:  2.15.0\n"
     ]
    }
   ],
   "source": [
    "# Python ≥3.7 is required\n",
    "import sys\n",
    "print(\"Python: \", sys.version_info)\n",
    "assert sys.version_info >= (3, 7)\n",
    "\n",
    "from packaging import version\n",
    "import sklearn\n",
    "print(sklearn.__version__)\n",
    "assert version.parse(sklearn.__version__) >= version.parse(\"1.0.1\")\n",
    "\n",
    "try:\n",
    "    # %tensorflow_version only exists in Colab.\n",
    "    %tensorflow_version 2.x\n",
    "except Exception:\n",
    "    pass\n",
    "\n",
    "# TensorFlow ≥2.8.0 is required\n",
    "import tensorflow as tf\n",
    "print(\"TF version: \", tf.__version__)\n",
    "assert version.parse(tf.__version__) >= version.parse(\"2.8.0\")\n",
    "\n",
    "# Common imports\n",
    "import numpy as np\n",
    "import pandas as pd\n",
    "\n",
    "# to make this notebook's output stable across runs\n",
    "np.random.seed(42)\n",
    "\n",
    "# To plot pretty figures\n",
    "%matplotlib inline\n",
    "import matplotlib as mpl\n",
    "import matplotlib.pyplot as plt\n",
    "plt.rc('font', size=14)\n",
    "plt.rc('axes', labelsize=14, titlesize=14)\n",
    "plt.rc('legend', fontsize=14)\n",
    "plt.rc('xtick', labelsize=10)\n",
    "plt.rc('ytick', labelsize=10)\n",
    "\n",
    "# Where to save the figures\n",
    "from pathlib import Path\n",
    "\n",
    "IMAGES_PATH = Path() / \"images\" / \"ann\"\n",
    "IMAGES_PATH.mkdir(parents=True, exist_ok=True)\n",
    "\n",
    "def save_fig(fig_id, tight_layout=True, fig_extension=\"png\", resolution=300):\n",
    "    path = IMAGES_PATH / f\"{fig_id}.{fig_extension}\"\n",
    "    if tight_layout:\n",
    "        plt.tight_layout()\n",
    "    plt.savefig(path, format=fig_extension, dpi=resolution)\n",
    "\n",
    "# Ignore useless warnings (see SciPy issue #5998)\n",
    "import warnings\n",
    "warnings.filterwarnings(action=\"ignore\", message=\"^internal gelsd\")"
   ]
  },
  {
   "cell_type": "code",
   "execution_count": null,
   "outputs": [],
   "source": [
    "# as ex 10.1 requires keras api 3, we'll need to upgrade keras\n",
    "# restart required\n",
    "import keras\n",
    "\n",
    "if version.parse(keras.__version__) < version.parse(\"3.0.0\"):\n",
    "    !pip3 install --upgrade keras\n",
    "\n",
    "keras.__version__"
   ],
   "metadata": {
    "collapsed": false
   }
  },
  {
   "cell_type": "markdown",
   "metadata": {},
   "source": [
    "### Exercise 10.1\n",
    "Define and plot activation functions ELU, leaky ReLU and ReLU6 using keras.activation functions.  \n",
    "Refer to practice code and copy all the necessary codes\n"
   ]
  },
  {
   "cell_type": "code",
   "execution_count": 3,
   "metadata": {
    "ExecuteTime": {
     "end_time": "2024-04-07T18:31:12.689262900Z",
     "start_time": "2024-04-07T18:31:12.434685100Z"
    }
   },
   "outputs": [
    {
     "name": "stderr",
     "output_type": "stream",
     "text": [
      "2024-04-08 03:31:12.585244: E external/local_xla/xla/stream_executor/cuda/cuda_driver.cc:274] failed call to cuInit: UNKNOWN ERROR (100)\n"
     ]
    },
    {
     "data": {
      "text/plain": "<Figure size 1000x300 with 1 Axes>",
      "image/png": "[encoded data removed]"
     },
     "metadata": {},
     "output_type": "display_data"
    }
   ],
   "source": [
    "# Exercise 10.1\n",
    "# Define activation functions using keras.activations\n",
    "z = np.linspace(-10, 10, 200)\n",
    "\n",
    "import keras\n",
    "\n",
    "ELU = keras.activations.elu(z)\n",
    "leaky_ReLU = keras.activations.relu(z)\n",
    "ReLU6 = keras.activations.relu6(z)\n",
    "\n",
    "# Plot\n",
    "\n",
    "plt.figure(figsize=(10,3))\n",
    "plt.plot(z, ELU, \"m-\", linewidth=2, label=\"ELU\")\n",
    "plt.plot(z, leaky_ReLU, \"r-\", linewidth=2, label=\"leaky_ReLU\")\n",
    "plt.plot(z, ReLU6, \"g--\", linewidth=2, label=\"ReLU6\")\n",
    "plt.grid(True)\n",
    "plt.legend(fontsize=12)\n",
    "\n",
    "plt.show()"
   ]
  },
  {
   "cell_type": "markdown",
   "metadata": {},
   "source": [
    "### Exercise 10.2  \n",
    "Fashion MNIST 실습코드를 이용하여 아래에서 요구하는 hidden layer의 수와 neuron의 수를 갖는 MLP 모델을 구성하고 학습시킨후 training loss와 test accuracy, step당 학습시간, 파라미터의 크기를 비교하시오. 모든 경우 learning curve를 그리시오.\n",
    "1. (300, 300, 100)\n",
    "2. (300, 100, 30)\n",
    "3. (1000, 100)\n",
    "4. (300, 30)\n",
    "5. (100, 30)\n",
    "6. 위의 실습 코드 결과와 함께 결과를 비교하고 분석하시오. "
   ]
  },
  {
   "cell_type": "code",
   "execution_count": 4,
   "metadata": {
    "ExecuteTime": {
     "end_time": "2024-04-07T18:31:13.093567900Z",
     "start_time": "2024-04-07T18:31:12.674146800Z"
    }
   },
   "outputs": [],
   "source": [
    "# Ex10.2\n",
    "# Preparation codes\n",
    "\n",
    "# load dataset\n",
    "\n",
    "fashion_mnist = keras.datasets.fashion_mnist.load_data()\n",
    "(X_train_full, y_train_full), (X_test, y_test) = fashion_mnist\n",
    "X_train, y_train = X_train_full[:-5000], y_train_full[:-5000]\n",
    "X_valid, y_valid = X_train_full[-5000:], y_train_full[-5000:]\n",
    "\n",
    "X_train, X_valid, X_test = X_train / 255., X_valid / 255., X_test / 255.\n",
    "\n",
    "# just to check\n",
    "class_names = [\"T-shirt/top\", \"Trouser\", \"Pullover\", \"Dress\", \"Coat\",\n",
    "               \"Sandal\", \"Shirt\", \"Sneaker\", \"Bag\", \"Ankle boot\"]\n",
    "\n",
    "# set seed\n",
    "tf.random.set_seed(42)\n"
   ]
  },
  {
   "cell_type": "code",
   "execution_count": 5,
   "metadata": {
    "ExecuteTime": {
     "end_time": "2024-04-07T18:31:13.230526800Z",
     "start_time": "2024-04-07T18:31:13.093567900Z"
    }
   },
   "outputs": [
    {
     "name": "stdout",
     "output_type": "stream",
     "text": [
      "Model: \"sequential\"\n",
      "_________________________________________________________________\n",
      " Layer (type)                Output Shape              Param #   \n",
      "=================================================================\n",
      " flatten (Flatten)           (None, 784)               0         \n",
      "                                                                 \n",
      " dense (Dense)               (None, 300)               235500    \n",
      "                                                                 \n",
      " dense_1 (Dense)             (None, 300)               90300     \n",
      "                                                                 \n",
      " dense_2 (Dense)             (None, 100)               30100     \n",
      "                                                                 \n",
      " dense_3 (Dense)             (None, 10)                1010      \n",
      "                                                                 \n",
      "=================================================================\n",
      "Total params: 356910 (1.36 MB)\n",
      "Trainable params: 356910 (1.36 MB)\n",
      "Non-trainable params: 0 (0.00 Byte)\n",
      "_________________________________________________________________\n"
     ]
    }
   ],
   "source": [
    "#1\n",
    "\n",
    "# 300, 300, 100 to each layer\n",
    "\n",
    "model1 = tf.keras.Sequential()\n",
    "model1.add(tf.keras.layers.Input(shape=(28, 28)))\n",
    "model1.add(tf.keras.layers.Flatten())\n",
    "model1.add(tf.keras.layers.Dense(300, activation=\"relu\"))\n",
    "model1.add(tf.keras.layers.Dense(300, activation=\"relu\"))\n",
    "model1.add(tf.keras.layers.Dense(100, activation=\"relu\"))\n",
    "model1.add(tf.keras.layers.Dense(10, activation=\"softmax\"))\n",
    "\n",
    "model1.summary()"
   ]
  },
  {
   "cell_type": "code",
   "execution_count": 6,
   "outputs": [
    {
     "name": "stdout",
     "output_type": "stream",
     "text": [
      "Epoch 1/30\n",
      "1719/1719 [==============================] - 9s 2ms/step - loss: 0.7162 - accuracy: 0.7643 - val_loss: 0.4902 - val_accuracy: 0.8284\n",
      "Epoch 2/30\n",
      "1719/1719 [==============================] - 3s 2ms/step - loss: 0.4731 - accuracy: 0.8341 - val_loss: 0.4699 - val_accuracy: 0.8304\n",
      "Epoch 3/30\n",
      "1719/1719 [==============================] - 3s 2ms/step - loss: 0.4236 - accuracy: 0.8503 - val_loss: 0.4172 - val_accuracy: 0.8498\n",
      "Epoch 4/30\n",
      "1719/1719 [==============================] - 3s 2ms/step - loss: 0.3960 - accuracy: 0.8605 - val_loss: 0.3839 - val_accuracy: 0.8630\n",
      "Epoch 5/30\n",
      "1719/1719 [==============================] - 3s 2ms/step - loss: 0.3736 - accuracy: 0.8675 - val_loss: 0.3737 - val_accuracy: 0.8640\n",
      "Epoch 6/30\n",
      "1719/1719 [==============================] - 3s 2ms/step - loss: 0.3563 - accuracy: 0.8727 - val_loss: 0.3779 - val_accuracy: 0.8646\n",
      "Epoch 7/30\n",
      "1719/1719 [==============================] - 3s 2ms/step - loss: 0.3432 - accuracy: 0.8752 - val_loss: 0.3586 - val_accuracy: 0.8704\n",
      "Epoch 8/30\n",
      "1719/1719 [==============================] - 3s 2ms/step - loss: 0.3304 - accuracy: 0.8809 - val_loss: 0.3600 - val_accuracy: 0.8656\n",
      "Epoch 9/30\n",
      "1719/1719 [==============================] - 3s 2ms/step - loss: 0.3192 - accuracy: 0.8848 - val_loss: 0.3376 - val_accuracy: 0.8792\n",
      "Epoch 10/30\n",
      "1719/1719 [==============================] - 3s 2ms/step - loss: 0.3093 - accuracy: 0.8877 - val_loss: 0.3341 - val_accuracy: 0.8770\n",
      "Epoch 11/30\n",
      "1719/1719 [==============================] - 3s 2ms/step - loss: 0.3003 - accuracy: 0.8910 - val_loss: 0.3518 - val_accuracy: 0.8714\n",
      "Epoch 12/30\n",
      "1719/1719 [==============================] - 3s 2ms/step - loss: 0.2916 - accuracy: 0.8930 - val_loss: 0.3354 - val_accuracy: 0.8750\n",
      "Epoch 13/30\n",
      "1719/1719 [==============================] - 3s 2ms/step - loss: 0.2843 - accuracy: 0.8976 - val_loss: 0.3227 - val_accuracy: 0.8790\n",
      "Epoch 14/30\n",
      "1719/1719 [==============================] - 3s 2ms/step - loss: 0.2766 - accuracy: 0.8982 - val_loss: 0.3373 - val_accuracy: 0.8776\n",
      "Epoch 15/30\n",
      "1719/1719 [==============================] - 3s 2ms/step - loss: 0.2702 - accuracy: 0.9010 - val_loss: 0.3290 - val_accuracy: 0.8794\n",
      "Epoch 16/30\n",
      "1719/1719 [==============================] - 3s 2ms/step - loss: 0.2625 - accuracy: 0.9039 - val_loss: 0.3253 - val_accuracy: 0.8788\n",
      "Epoch 17/30\n",
      "1719/1719 [==============================] - 3s 2ms/step - loss: 0.2570 - accuracy: 0.9054 - val_loss: 0.3306 - val_accuracy: 0.8778\n",
      "Epoch 18/30\n",
      "1719/1719 [==============================] - 3s 2ms/step - loss: 0.2504 - accuracy: 0.9087 - val_loss: 0.3297 - val_accuracy: 0.8830\n",
      "Epoch 19/30\n",
      "1719/1719 [==============================] - 3s 2ms/step - loss: 0.2453 - accuracy: 0.9100 - val_loss: 0.3443 - val_accuracy: 0.8676\n",
      "Epoch 20/30\n",
      "1719/1719 [==============================] - 3s 2ms/step - loss: 0.2400 - accuracy: 0.9125 - val_loss: 0.3134 - val_accuracy: 0.8824\n",
      "Epoch 21/30\n",
      "1719/1719 [==============================] - 3s 2ms/step - loss: 0.2344 - accuracy: 0.9143 - val_loss: 0.3079 - val_accuracy: 0.8866\n",
      "Epoch 22/30\n",
      "1719/1719 [==============================] - 3s 2ms/step - loss: 0.2281 - accuracy: 0.9163 - val_loss: 0.3112 - val_accuracy: 0.8834\n",
      "Epoch 23/30\n",
      "1719/1719 [==============================] - 3s 2ms/step - loss: 0.2243 - accuracy: 0.9182 - val_loss: 0.3421 - val_accuracy: 0.8760\n",
      "Epoch 24/30\n",
      "1719/1719 [==============================] - 3s 2ms/step - loss: 0.2190 - accuracy: 0.9212 - val_loss: 0.3196 - val_accuracy: 0.8850\n",
      "Epoch 25/30\n",
      "1719/1719 [==============================] - 3s 2ms/step - loss: 0.2144 - accuracy: 0.9213 - val_loss: 0.3235 - val_accuracy: 0.8850\n",
      "Epoch 26/30\n",
      "1719/1719 [==============================] - 3s 2ms/step - loss: 0.2105 - accuracy: 0.9230 - val_loss: 0.3195 - val_accuracy: 0.8862\n",
      "Epoch 27/30\n",
      "1719/1719 [==============================] - 3s 2ms/step - loss: 0.2047 - accuracy: 0.9245 - val_loss: 0.3155 - val_accuracy: 0.8842\n",
      "Epoch 28/30\n",
      "1719/1719 [==============================] - 3s 2ms/step - loss: 0.2009 - accuracy: 0.9262 - val_loss: 0.3189 - val_accuracy: 0.8890\n",
      "Epoch 29/30\n",
      "1719/1719 [==============================] - 3s 2ms/step - loss: 0.1971 - accuracy: 0.9279 - val_loss: 0.3185 - val_accuracy: 0.8818\n",
      "Epoch 30/30\n",
      "1719/1719 [==============================] - 3s 2ms/step - loss: 0.1927 - accuracy: 0.9307 - val_loss: 0.3062 - val_accuracy: 0.8872\n"
     ]
    }
   ],
   "source": [
    "# train the model\n",
    "\n",
    "model1.compile(loss=\"sparse_categorical_crossentropy\",\n",
    "               optimizer=\"sgd\",\n",
    "               metrics=[\"accuracy\"])\n",
    "\n",
    "history1 = model1.fit(X_train, y_train, epochs=30,\n",
    "                      validation_data=(X_valid, y_valid))"
   ],
   "metadata": {
    "collapsed": false,
    "ExecuteTime": {
     "end_time": "2024-04-07T18:32:48.064090800Z",
     "start_time": "2024-04-07T18:31:13.155063100Z"
    }
   }
  },
  {
   "cell_type": "code",
   "execution_count": 7,
   "outputs": [
    {
     "data": {
      "text/plain": "<Figure size 800x500 with 1 Axes>",
      "image/png": "[encoded data removed]"
     },
     "metadata": {},
     "output_type": "display_data"
    }
   ],
   "source": [
    "# show model\n",
    "\n",
    "pd.DataFrame(history1.history).plot(\n",
    "    figsize=(8, 5), xlim=[0, 29], ylim=[0, 1], grid=True, xlabel=\"Epoch\",\n",
    "    style=[\"r--\", \"r--.\", \"b-\", \"b-*\"])\n",
    "plt.legend(loc=\"lower left\", fontsize = 10)\n",
    "plt.title(\"layer (300,300,100) MNIST model\")\n",
    "plt.show()"
   ],
   "metadata": {
    "collapsed": false,
    "ExecuteTime": {
     "end_time": "2024-04-07T18:32:48.165330300Z",
     "start_time": "2024-04-07T18:32:48.064090800Z"
    }
   }
  },
  {
   "cell_type": "code",
   "execution_count": 34,
   "outputs": [
    {
     "name": "stdout",
     "output_type": "stream",
     "text": [
      "313/313 [==============================] - 0s 907us/step - loss: 0.3189 - accuracy: 0.8894\n"
     ]
    },
    {
     "data": {
      "text/plain": "[0.3189198970794678, 0.8894000053405762]"
     },
     "execution_count": 34,
     "metadata": {},
     "output_type": "execute_result"
    }
   ],
   "source": [
    "# test result\n",
    "\n",
    "model1.evaluate(X_test,y_test)"
   ],
   "metadata": {
    "collapsed": false,
    "ExecuteTime": {
     "end_time": "2024-04-07T18:42:19.594103600Z",
     "start_time": "2024-04-07T18:42:19.168131300Z"
    }
   }
  },
  {
   "cell_type": "code",
   "execution_count": 8,
   "metadata": {
    "ExecuteTime": {
     "end_time": "2024-04-07T18:32:48.297354900Z",
     "start_time": "2024-04-07T18:32:48.165330300Z"
    }
   },
   "outputs": [
    {
     "name": "stdout",
     "output_type": "stream",
     "text": [
      "Model: \"sequential_1\"\n",
      "_________________________________________________________________\n",
      " Layer (type)                Output Shape              Param #   \n",
      "=================================================================\n",
      " flatten_1 (Flatten)         (None, 784)               0         \n",
      "                                                                 \n",
      " dense_4 (Dense)             (None, 300)               235500    \n",
      "                                                                 \n",
      " dense_5 (Dense)             (None, 100)               30100     \n",
      "                                                                 \n",
      " dense_6 (Dense)             (None, 30)                3030      \n",
      "                                                                 \n",
      " dense_7 (Dense)             (None, 100)               3100      \n",
      "                                                                 \n",
      "=================================================================\n",
      "Total params: 271730 (1.04 MB)\n",
      "Trainable params: 271730 (1.04 MB)\n",
      "Non-trainable params: 0 (0.00 Byte)\n",
      "_________________________________________________________________\n"
     ]
    }
   ],
   "source": [
    "#2\n",
    "\n",
    "# 300, 100, 30 to each layer\n",
    "\n",
    "model2 = tf.keras.Sequential()\n",
    "model2.add(tf.keras.layers.Input(shape=(28, 28)))\n",
    "model2.add(tf.keras.layers.Flatten())\n",
    "model2.add(tf.keras.layers.Dense(300, activation=\"relu\"))\n",
    "model2.add(tf.keras.layers.Dense(100, activation=\"relu\"))\n",
    "model2.add(tf.keras.layers.Dense(30, activation=\"relu\"))\n",
    "model2.add(tf.keras.layers.Dense(100, activation=\"softmax\"))\n",
    "\n",
    "model2.summary()"
   ]
  },
  {
   "cell_type": "code",
   "execution_count": 9,
   "metadata": {
    "ExecuteTime": {
     "end_time": "2024-04-07T18:34:05.662623900Z",
     "start_time": "2024-04-07T18:32:48.203110600Z"
    }
   },
   "outputs": [
    {
     "name": "stdout",
     "output_type": "stream",
     "text": [
      "Epoch 1/30\n",
      "1719/1719 [==============================] - 3s 2ms/step - loss: 0.9481 - accuracy: 0.6855 - val_loss: 0.5465 - val_accuracy: 0.8094\n",
      "Epoch 2/30\n",
      "1719/1719 [==============================] - 3s 1ms/step - loss: 0.5295 - accuracy: 0.8132 - val_loss: 0.4885 - val_accuracy: 0.8198\n",
      "Epoch 3/30\n",
      "1719/1719 [==============================] - 3s 1ms/step - loss: 0.4630 - accuracy: 0.8370 - val_loss: 0.4392 - val_accuracy: 0.8460\n",
      "Epoch 4/30\n",
      "1719/1719 [==============================] - 3s 1ms/step - loss: 0.4287 - accuracy: 0.8493 - val_loss: 0.4049 - val_accuracy: 0.8588\n",
      "Epoch 5/30\n",
      "1719/1719 [==============================] - 3s 1ms/step - loss: 0.4002 - accuracy: 0.8585 - val_loss: 0.4016 - val_accuracy: 0.8564\n",
      "Epoch 6/30\n",
      "1719/1719 [==============================] - 3s 1ms/step - loss: 0.3799 - accuracy: 0.8636 - val_loss: 0.3877 - val_accuracy: 0.8630\n",
      "Epoch 7/30\n",
      "1719/1719 [==============================] - 3s 1ms/step - loss: 0.3646 - accuracy: 0.8673 - val_loss: 0.3715 - val_accuracy: 0.8646\n",
      "Epoch 8/30\n",
      "1719/1719 [==============================] - 3s 1ms/step - loss: 0.3495 - accuracy: 0.8737 - val_loss: 0.3711 - val_accuracy: 0.8628\n",
      "Epoch 9/30\n",
      "1719/1719 [==============================] - 3s 1ms/step - loss: 0.3383 - accuracy: 0.8785 - val_loss: 0.3446 - val_accuracy: 0.8714\n",
      "Epoch 10/30\n",
      "1719/1719 [==============================] - 3s 1ms/step - loss: 0.3263 - accuracy: 0.8818 - val_loss: 0.3423 - val_accuracy: 0.8706\n",
      "Epoch 11/30\n",
      "1719/1719 [==============================] - 3s 1ms/step - loss: 0.3173 - accuracy: 0.8849 - val_loss: 0.3686 - val_accuracy: 0.8594\n",
      "Epoch 12/30\n",
      "1719/1719 [==============================] - 3s 1ms/step - loss: 0.3080 - accuracy: 0.8877 - val_loss: 0.3373 - val_accuracy: 0.8722\n",
      "Epoch 13/30\n",
      "1719/1719 [==============================] - 3s 1ms/step - loss: 0.3001 - accuracy: 0.8921 - val_loss: 0.3241 - val_accuracy: 0.8810\n",
      "Epoch 14/30\n",
      "1719/1719 [==============================] - 3s 1ms/step - loss: 0.2914 - accuracy: 0.8935 - val_loss: 0.3518 - val_accuracy: 0.8746\n",
      "Epoch 15/30\n",
      "1719/1719 [==============================] - 3s 1ms/step - loss: 0.2846 - accuracy: 0.8976 - val_loss: 0.3405 - val_accuracy: 0.8762\n",
      "Epoch 16/30\n",
      "1719/1719 [==============================] - 3s 1ms/step - loss: 0.2774 - accuracy: 0.8990 - val_loss: 0.3262 - val_accuracy: 0.8784\n",
      "Epoch 17/30\n",
      "1719/1719 [==============================] - 3s 1ms/step - loss: 0.2715 - accuracy: 0.9004 - val_loss: 0.3350 - val_accuracy: 0.8778\n",
      "Epoch 18/30\n",
      "1719/1719 [==============================] - 3s 1ms/step - loss: 0.2648 - accuracy: 0.9035 - val_loss: 0.3322 - val_accuracy: 0.8812\n",
      "Epoch 19/30\n",
      "1719/1719 [==============================] - 3s 1ms/step - loss: 0.2599 - accuracy: 0.9043 - val_loss: 0.3611 - val_accuracy: 0.8644\n",
      "Epoch 20/30\n",
      "1719/1719 [==============================] - 3s 1ms/step - loss: 0.2535 - accuracy: 0.9081 - val_loss: 0.3185 - val_accuracy: 0.8818\n",
      "Epoch 21/30\n",
      "1719/1719 [==============================] - 3s 1ms/step - loss: 0.2479 - accuracy: 0.9093 - val_loss: 0.3112 - val_accuracy: 0.8838\n",
      "Epoch 22/30\n",
      "1719/1719 [==============================] - 3s 2ms/step - loss: 0.2422 - accuracy: 0.9107 - val_loss: 0.3132 - val_accuracy: 0.8854\n",
      "Epoch 23/30\n",
      "1719/1719 [==============================] - 3s 1ms/step - loss: 0.2379 - accuracy: 0.9132 - val_loss: 0.3436 - val_accuracy: 0.8746\n",
      "Epoch 24/30\n",
      "1719/1719 [==============================] - 3s 1ms/step - loss: 0.2323 - accuracy: 0.9154 - val_loss: 0.3279 - val_accuracy: 0.8818\n",
      "Epoch 25/30\n",
      "1719/1719 [==============================] - 3s 1ms/step - loss: 0.2279 - accuracy: 0.9164 - val_loss: 0.3131 - val_accuracy: 0.8844\n",
      "Epoch 26/30\n",
      "1719/1719 [==============================] - 3s 1ms/step - loss: 0.2243 - accuracy: 0.9181 - val_loss: 0.3200 - val_accuracy: 0.8850\n",
      "Epoch 27/30\n",
      "1719/1719 [==============================] - 3s 1ms/step - loss: 0.2179 - accuracy: 0.9201 - val_loss: 0.3233 - val_accuracy: 0.8856\n",
      "Epoch 28/30\n",
      "1719/1719 [==============================] - 3s 1ms/step - loss: 0.2140 - accuracy: 0.9224 - val_loss: 0.3354 - val_accuracy: 0.8878\n",
      "Epoch 29/30\n",
      "1719/1719 [==============================] - 3s 1ms/step - loss: 0.2100 - accuracy: 0.9227 - val_loss: 0.3175 - val_accuracy: 0.8858\n",
      "Epoch 30/30\n",
      "1719/1719 [==============================] - 3s 1ms/step - loss: 0.2055 - accuracy: 0.9254 - val_loss: 0.3073 - val_accuracy: 0.8914\n"
     ]
    }
   ],
   "source": [
    "# train the model\n",
    "\n",
    "model2.compile(loss=\"sparse_categorical_crossentropy\",\n",
    "              optimizer=\"sgd\",\n",
    "              metrics=[\"accuracy\"])\n",
    "\n",
    "history2 = model2.fit(X_train, y_train, epochs=30,\n",
    "                    validation_data=(X_valid, y_valid))"
   ]
  },
  {
   "cell_type": "code",
   "execution_count": 10,
   "outputs": [
    {
     "data": {
      "text/plain": "<Figure size 800x500 with 1 Axes>",
      "image/png": "[encoded data removed]"
     },
     "metadata": {},
     "output_type": "display_data"
    }
   ],
   "source": [
    "# show model\n",
    "\n",
    "pd.DataFrame(history2.history).plot(\n",
    "    figsize=(8, 5), xlim=[0, 29], ylim=[0, 1], grid=True, xlabel=\"Epoch\",\n",
    "    style=[\"r--\", \"r--.\", \"b-\", \"b-*\"])\n",
    "plt.legend(loc=\"lower left\", fontsize = 10)\n",
    "plt.title(\"layer (300,100,30) MNIST model\")\n",
    "plt.show()"
   ],
   "metadata": {
    "collapsed": false,
    "ExecuteTime": {
     "end_time": "2024-04-07T18:34:05.764457600Z",
     "start_time": "2024-04-07T18:34:05.662623900Z"
    }
   }
  },
  {
   "cell_type": "code",
   "execution_count": 35,
   "outputs": [
    {
     "name": "stdout",
     "output_type": "stream",
     "text": [
      "313/313 [==============================] - 0s 935us/step - loss: 0.3266 - accuracy: 0.8867\n"
     ]
    },
    {
     "data": {
      "text/plain": "[0.3266007900238037, 0.8866999745368958]"
     },
     "execution_count": 35,
     "metadata": {},
     "output_type": "execute_result"
    }
   ],
   "source": [
    "# test result\n",
    "\n",
    "model2.evaluate(X_test,y_test)"
   ],
   "metadata": {
    "collapsed": false,
    "ExecuteTime": {
     "end_time": "2024-04-07T18:42:30.366943100Z",
     "start_time": "2024-04-07T18:42:29.991219700Z"
    }
   }
  },
  {
   "cell_type": "code",
   "execution_count": 11,
   "outputs": [
    {
     "name": "stdout",
     "output_type": "stream",
     "text": [
      "Model: \"sequential_2\"\n",
      "_________________________________________________________________\n",
      " Layer (type)                Output Shape              Param #   \n",
      "=================================================================\n",
      " flatten_2 (Flatten)         (None, 784)               0         \n",
      "                                                                 \n",
      " dense_8 (Dense)             (None, 1000)              785000    \n",
      "                                                                 \n",
      " dense_9 (Dense)             (None, 100)               100100    \n",
      "                                                                 \n",
      " dense_10 (Dense)            (None, 10)                1010      \n",
      "                                                                 \n",
      "=================================================================\n",
      "Total params: 886110 (3.38 MB)\n",
      "Trainable params: 886110 (3.38 MB)\n",
      "Non-trainable params: 0 (0.00 Byte)\n",
      "_________________________________________________________________\n"
     ]
    }
   ],
   "source": [
    "#3\n",
    "\n",
    "# 1000, 100 to each layer\n",
    "\n",
    "model3 = tf.keras.Sequential()\n",
    "model3.add(tf.keras.layers.Input(shape=(28, 28)))\n",
    "model3.add(tf.keras.layers.Flatten())\n",
    "model3.add(tf.keras.layers.Dense(1000, activation=\"relu\"))\n",
    "model3.add(tf.keras.layers.Dense(100, activation=\"relu\"))\n",
    "model3.add(tf.keras.layers.Dense(10, activation=\"softmax\"))\n",
    "\n",
    "model3.summary()"
   ],
   "metadata": {
    "collapsed": false,
    "ExecuteTime": {
     "end_time": "2024-04-07T18:34:05.863650100Z",
     "start_time": "2024-04-07T18:34:05.764457600Z"
    }
   }
  },
  {
   "cell_type": "code",
   "execution_count": 12,
   "outputs": [
    {
     "name": "stdout",
     "output_type": "stream",
     "text": [
      "Epoch 1/30\n",
      "1719/1719 [==============================] - 5s 2ms/step - loss: 0.6833 - accuracy: 0.7768 - val_loss: 0.4855 - val_accuracy: 0.8326\n",
      "Epoch 2/30\n",
      "1719/1719 [==============================] - 4s 2ms/step - loss: 0.4708 - accuracy: 0.8362 - val_loss: 0.4509 - val_accuracy: 0.8372\n",
      "Epoch 3/30\n",
      "1719/1719 [==============================] - 4s 2ms/step - loss: 0.4273 - accuracy: 0.8501 - val_loss: 0.4093 - val_accuracy: 0.8556\n",
      "Epoch 4/30\n",
      "1719/1719 [==============================] - 4s 2ms/step - loss: 0.4031 - accuracy: 0.8599 - val_loss: 0.3818 - val_accuracy: 0.8660\n",
      "Epoch 5/30\n",
      "1719/1719 [==============================] - 4s 2ms/step - loss: 0.3830 - accuracy: 0.8652 - val_loss: 0.3795 - val_accuracy: 0.8626\n",
      "Epoch 6/30\n",
      "1719/1719 [==============================] - 4s 2ms/step - loss: 0.3665 - accuracy: 0.8708 - val_loss: 0.3794 - val_accuracy: 0.8680\n",
      "Epoch 7/30\n",
      "1719/1719 [==============================] - 4s 2ms/step - loss: 0.3534 - accuracy: 0.8739 - val_loss: 0.3583 - val_accuracy: 0.8714\n",
      "Epoch 8/30\n",
      "1719/1719 [==============================] - 4s 2ms/step - loss: 0.3418 - accuracy: 0.8789 - val_loss: 0.3650 - val_accuracy: 0.8692\n",
      "Epoch 9/30\n",
      "1719/1719 [==============================] - 4s 2ms/step - loss: 0.3304 - accuracy: 0.8833 - val_loss: 0.3377 - val_accuracy: 0.8792\n",
      "Epoch 10/30\n",
      "1719/1719 [==============================] - 4s 2ms/step - loss: 0.3198 - accuracy: 0.8854 - val_loss: 0.3393 - val_accuracy: 0.8780\n",
      "Epoch 11/30\n",
      "1719/1719 [==============================] - 4s 2ms/step - loss: 0.3106 - accuracy: 0.8895 - val_loss: 0.3628 - val_accuracy: 0.8654\n",
      "Epoch 12/30\n",
      "1719/1719 [==============================] - 4s 2ms/step - loss: 0.3022 - accuracy: 0.8920 - val_loss: 0.3369 - val_accuracy: 0.8756\n",
      "Epoch 13/30\n",
      "1719/1719 [==============================] - 4s 2ms/step - loss: 0.2944 - accuracy: 0.8959 - val_loss: 0.3185 - val_accuracy: 0.8816\n",
      "Epoch 14/30\n",
      "1719/1719 [==============================] - 4s 2ms/step - loss: 0.2870 - accuracy: 0.8972 - val_loss: 0.3243 - val_accuracy: 0.8848\n",
      "Epoch 15/30\n",
      "1719/1719 [==============================] - 4s 2ms/step - loss: 0.2807 - accuracy: 0.9002 - val_loss: 0.3267 - val_accuracy: 0.8820\n",
      "Epoch 16/30\n",
      "1719/1719 [==============================] - 4s 2ms/step - loss: 0.2731 - accuracy: 0.9021 - val_loss: 0.3280 - val_accuracy: 0.8782\n",
      "Epoch 17/30\n",
      "1719/1719 [==============================] - 4s 2ms/step - loss: 0.2676 - accuracy: 0.9037 - val_loss: 0.3222 - val_accuracy: 0.8816\n",
      "Epoch 18/30\n",
      "1719/1719 [==============================] - 4s 2ms/step - loss: 0.2611 - accuracy: 0.9064 - val_loss: 0.3143 - val_accuracy: 0.8848\n",
      "Epoch 19/30\n",
      "1719/1719 [==============================] - 4s 2ms/step - loss: 0.2559 - accuracy: 0.9088 - val_loss: 0.3427 - val_accuracy: 0.8716\n",
      "Epoch 20/30\n",
      "1719/1719 [==============================] - 4s 2ms/step - loss: 0.2502 - accuracy: 0.9099 - val_loss: 0.3134 - val_accuracy: 0.8828\n",
      "Epoch 21/30\n",
      "1719/1719 [==============================] - 4s 2ms/step - loss: 0.2448 - accuracy: 0.9123 - val_loss: 0.3051 - val_accuracy: 0.8888\n",
      "Epoch 22/30\n",
      "1719/1719 [==============================] - 4s 2ms/step - loss: 0.2391 - accuracy: 0.9143 - val_loss: 0.3047 - val_accuracy: 0.8876\n",
      "Epoch 23/30\n",
      "1719/1719 [==============================] - 4s 2ms/step - loss: 0.2350 - accuracy: 0.9165 - val_loss: 0.3401 - val_accuracy: 0.8772\n",
      "Epoch 24/30\n",
      "1719/1719 [==============================] - 4s 2ms/step - loss: 0.2291 - accuracy: 0.9187 - val_loss: 0.3061 - val_accuracy: 0.8888\n",
      "Epoch 25/30\n",
      "1719/1719 [==============================] - 4s 2ms/step - loss: 0.2246 - accuracy: 0.9199 - val_loss: 0.3087 - val_accuracy: 0.8878\n",
      "Epoch 26/30\n",
      "1719/1719 [==============================] - 4s 2ms/step - loss: 0.2202 - accuracy: 0.9217 - val_loss: 0.3038 - val_accuracy: 0.8900\n",
      "Epoch 27/30\n",
      "1719/1719 [==============================] - 4s 2ms/step - loss: 0.2148 - accuracy: 0.9223 - val_loss: 0.3076 - val_accuracy: 0.8892\n",
      "Epoch 28/30\n",
      "1719/1719 [==============================] - 4s 2ms/step - loss: 0.2116 - accuracy: 0.9250 - val_loss: 0.3004 - val_accuracy: 0.8900\n",
      "Epoch 29/30\n",
      "1719/1719 [==============================] - 4s 2ms/step - loss: 0.2070 - accuracy: 0.9259 - val_loss: 0.3056 - val_accuracy: 0.8872\n",
      "Epoch 30/30\n",
      "1719/1719 [==============================] - 4s 2ms/step - loss: 0.2026 - accuracy: 0.9284 - val_loss: 0.2957 - val_accuracy: 0.8922\n"
     ]
    }
   ],
   "source": [
    "# train the model\n",
    "\n",
    "model3.compile(loss=\"sparse_categorical_crossentropy\",\n",
    "              optimizer=\"sgd\",\n",
    "              metrics=[\"accuracy\"])\n",
    "\n",
    "history3 = model3.fit(X_train, y_train, epochs=30,\n",
    "                    validation_data=(X_valid, y_valid))"
   ],
   "metadata": {
    "collapsed": false,
    "ExecuteTime": {
     "end_time": "2024-04-07T18:36:04.961708600Z",
     "start_time": "2024-04-07T18:34:05.800244600Z"
    }
   }
  },
  {
   "cell_type": "code",
   "execution_count": 13,
   "outputs": [
    {
     "data": {
      "text/plain": "<Figure size 800x500 with 1 Axes>",
      "image/png": "[encoded data removed]"
     },
     "metadata": {},
     "output_type": "display_data"
    }
   ],
   "source": [
    "# show model\n",
    "\n",
    "pd.DataFrame(history3.history).plot(\n",
    "    figsize=(8, 5), xlim=[0, 29], ylim=[0, 1], grid=True, xlabel=\"Epoch\",\n",
    "    style=[\"r--\", \"r--.\", \"b-\", \"b-*\"])\n",
    "plt.legend(loc=\"lower left\", fontsize = 10)\n",
    "plt.title(\"layer (1000,100) MNIST model\")\n",
    "plt.show()"
   ],
   "metadata": {
    "collapsed": false,
    "ExecuteTime": {
     "end_time": "2024-04-07T18:36:05.040081300Z",
     "start_time": "2024-04-07T18:36:04.951075600Z"
    }
   }
  },
  {
   "cell_type": "code",
   "execution_count": 36,
   "outputs": [
    {
     "name": "stdout",
     "output_type": "stream",
     "text": [
      "313/313 [==============================] - 0s 1ms/step - loss: 0.3161 - accuracy: 0.8891\n"
     ]
    },
    {
     "data": {
      "text/plain": "[0.3161049783229828, 0.8891000151634216]"
     },
     "execution_count": 36,
     "metadata": {},
     "output_type": "execute_result"
    }
   ],
   "source": [
    "# test result\n",
    "\n",
    "model3.evaluate(X_test,y_test)"
   ],
   "metadata": {
    "collapsed": false,
    "ExecuteTime": {
     "end_time": "2024-04-07T18:42:54.793925Z",
     "start_time": "2024-04-07T18:42:54.344808Z"
    }
   }
  },
  {
   "cell_type": "code",
   "execution_count": 14,
   "metadata": {
    "ExecuteTime": {
     "end_time": "2024-04-07T18:36:05.118406700Z",
     "start_time": "2024-04-07T18:36:05.040081300Z"
    }
   },
   "outputs": [
    {
     "name": "stdout",
     "output_type": "stream",
     "text": [
      "Model: \"sequential_3\"\n",
      "_________________________________________________________________\n",
      " Layer (type)                Output Shape              Param #   \n",
      "=================================================================\n",
      " flatten_3 (Flatten)         (None, 784)               0         \n",
      "                                                                 \n",
      " dense_11 (Dense)            (None, 300)               235500    \n",
      "                                                                 \n",
      " dense_12 (Dense)            (None, 30)                9030      \n",
      "                                                                 \n",
      " dense_13 (Dense)            (None, 10)                310       \n",
      "                                                                 \n",
      "=================================================================\n",
      "Total params: 244840 (956.41 KB)\n",
      "Trainable params: 244840 (956.41 KB)\n",
      "Non-trainable params: 0 (0.00 Byte)\n",
      "_________________________________________________________________\n"
     ]
    }
   ],
   "source": [
    "#4\n",
    "\n",
    "# 300, 30 to each layer\n",
    "\n",
    "model4 = tf.keras.Sequential()\n",
    "model4.add(tf.keras.layers.Input(shape=(28, 28)))\n",
    "model4.add(tf.keras.layers.Flatten())\n",
    "model4.add(tf.keras.layers.Dense(300, activation=\"relu\"))\n",
    "model4.add(tf.keras.layers.Dense(30, activation=\"relu\"))\n",
    "model4.add(tf.keras.layers.Dense(10, activation=\"softmax\"))\n",
    "\n",
    "model4.summary()"
   ]
  },
  {
   "cell_type": "code",
   "execution_count": 15,
   "outputs": [
    {
     "name": "stdout",
     "output_type": "stream",
     "text": [
      "Epoch 1/30\n",
      "1719/1719 [==============================] - 3s 2ms/step - loss: 0.7351 - accuracy: 0.7558 - val_loss: 0.5196 - val_accuracy: 0.8238\n",
      "Epoch 2/30\n",
      "1719/1719 [==============================] - 2s 1ms/step - loss: 0.4970 - accuracy: 0.8272 - val_loss: 0.4723 - val_accuracy: 0.8286\n",
      "Epoch 3/30\n",
      "1719/1719 [==============================] - 2s 1ms/step - loss: 0.4502 - accuracy: 0.8415 - val_loss: 0.4314 - val_accuracy: 0.8466\n",
      "Epoch 4/30\n",
      "1719/1719 [==============================] - 2s 1ms/step - loss: 0.4255 - accuracy: 0.8500 - val_loss: 0.4072 - val_accuracy: 0.8580\n",
      "Epoch 5/30\n",
      "1719/1719 [==============================] - 2s 1ms/step - loss: 0.4039 - accuracy: 0.8580 - val_loss: 0.4048 - val_accuracy: 0.8578\n",
      "Epoch 6/30\n",
      "1719/1719 [==============================] - 2s 1ms/step - loss: 0.3870 - accuracy: 0.8639 - val_loss: 0.4038 - val_accuracy: 0.8598\n",
      "Epoch 7/30\n",
      "1719/1719 [==============================] - 2s 1ms/step - loss: 0.3738 - accuracy: 0.8689 - val_loss: 0.3726 - val_accuracy: 0.8682\n",
      "Epoch 8/30\n",
      "1719/1719 [==============================] - 2s 1ms/step - loss: 0.3615 - accuracy: 0.8726 - val_loss: 0.3756 - val_accuracy: 0.8646\n",
      "Epoch 9/30\n",
      "1719/1719 [==============================] - 2s 1ms/step - loss: 0.3499 - accuracy: 0.8772 - val_loss: 0.3562 - val_accuracy: 0.8718\n",
      "Epoch 10/30\n",
      "1719/1719 [==============================] - 2s 1ms/step - loss: 0.3394 - accuracy: 0.8794 - val_loss: 0.3634 - val_accuracy: 0.8716\n",
      "Epoch 11/30\n",
      "1719/1719 [==============================] - 2s 1ms/step - loss: 0.3305 - accuracy: 0.8824 - val_loss: 0.3774 - val_accuracy: 0.8602\n",
      "Epoch 12/30\n",
      "1719/1719 [==============================] - 2s 1ms/step - loss: 0.3223 - accuracy: 0.8847 - val_loss: 0.3538 - val_accuracy: 0.8726\n",
      "Epoch 13/30\n",
      "1719/1719 [==============================] - 2s 1ms/step - loss: 0.3144 - accuracy: 0.8885 - val_loss: 0.3301 - val_accuracy: 0.8812\n",
      "Epoch 14/30\n",
      "1719/1719 [==============================] - 2s 1ms/step - loss: 0.3072 - accuracy: 0.8893 - val_loss: 0.3403 - val_accuracy: 0.8796\n",
      "Epoch 15/30\n",
      "1719/1719 [==============================] - 2s 1ms/step - loss: 0.3011 - accuracy: 0.8918 - val_loss: 0.3350 - val_accuracy: 0.8774\n",
      "Epoch 16/30\n",
      "1719/1719 [==============================] - 2s 1ms/step - loss: 0.2936 - accuracy: 0.8949 - val_loss: 0.3353 - val_accuracy: 0.8780\n",
      "Epoch 17/30\n",
      "1719/1719 [==============================] - 2s 1ms/step - loss: 0.2884 - accuracy: 0.8950 - val_loss: 0.3412 - val_accuracy: 0.8732\n",
      "Epoch 18/30\n",
      "1719/1719 [==============================] - 2s 1ms/step - loss: 0.2825 - accuracy: 0.8986 - val_loss: 0.3280 - val_accuracy: 0.8796\n",
      "Epoch 19/30\n",
      "1719/1719 [==============================] - 2s 1ms/step - loss: 0.2769 - accuracy: 0.9001 - val_loss: 0.3565 - val_accuracy: 0.8676\n",
      "Epoch 20/30\n",
      "1719/1719 [==============================] - 2s 1ms/step - loss: 0.2718 - accuracy: 0.9030 - val_loss: 0.3271 - val_accuracy: 0.8818\n",
      "Epoch 21/30\n",
      "1719/1719 [==============================] - 2s 1ms/step - loss: 0.2669 - accuracy: 0.9032 - val_loss: 0.3192 - val_accuracy: 0.8830\n",
      "Epoch 22/30\n",
      "1719/1719 [==============================] - 2s 1ms/step - loss: 0.2619 - accuracy: 0.9047 - val_loss: 0.3175 - val_accuracy: 0.8834\n",
      "Epoch 23/30\n",
      "1719/1719 [==============================] - 2s 1ms/step - loss: 0.2575 - accuracy: 0.9068 - val_loss: 0.3513 - val_accuracy: 0.8718\n",
      "Epoch 24/30\n",
      "1719/1719 [==============================] - 2s 1ms/step - loss: 0.2524 - accuracy: 0.9089 - val_loss: 0.3298 - val_accuracy: 0.8770\n",
      "Epoch 25/30\n",
      "1719/1719 [==============================] - 2s 1ms/step - loss: 0.2477 - accuracy: 0.9099 - val_loss: 0.3254 - val_accuracy: 0.8792\n",
      "Epoch 26/30\n",
      "1719/1719 [==============================] - 2s 1ms/step - loss: 0.2442 - accuracy: 0.9120 - val_loss: 0.3168 - val_accuracy: 0.8852\n",
      "Epoch 27/30\n",
      "1719/1719 [==============================] - 2s 1ms/step - loss: 0.2385 - accuracy: 0.9136 - val_loss: 0.3254 - val_accuracy: 0.8806\n",
      "Epoch 28/30\n",
      "1719/1719 [==============================] - 2s 1ms/step - loss: 0.2359 - accuracy: 0.9146 - val_loss: 0.3179 - val_accuracy: 0.8824\n",
      "Epoch 29/30\n",
      "1719/1719 [==============================] - 2s 1ms/step - loss: 0.2316 - accuracy: 0.9156 - val_loss: 0.3205 - val_accuracy: 0.8864\n",
      "Epoch 30/30\n",
      "1719/1719 [==============================] - 2s 1ms/step - loss: 0.2279 - accuracy: 0.9174 - val_loss: 0.3117 - val_accuracy: 0.8858\n"
     ]
    }
   ],
   "source": [
    "# train the model\n",
    "\n",
    "model4.compile(loss=\"sparse_categorical_crossentropy\",\n",
    "              optimizer=\"sgd\",\n",
    "              metrics=[\"accuracy\"])\n",
    "\n",
    "history4 = model4.fit(X_train, y_train, epochs=30,\n",
    "                    validation_data=(X_valid, y_valid))"
   ],
   "metadata": {
    "collapsed": false,
    "ExecuteTime": {
     "end_time": "2024-04-07T18:37:17.205251600Z",
     "start_time": "2024-04-07T18:36:05.089710100Z"
    }
   }
  },
  {
   "cell_type": "code",
   "execution_count": 16,
   "outputs": [
    {
     "data": {
      "text/plain": "<Figure size 800x500 with 1 Axes>",
      "image/png": "[encoded data removed]"
     },
     "metadata": {},
     "output_type": "display_data"
    }
   ],
   "source": [
    "# show model\n",
    "\n",
    "pd.DataFrame(history4.history).plot(\n",
    "    figsize=(8, 5), xlim=[0, 29], ylim=[0, 1], grid=True, xlabel=\"Epoch\",\n",
    "    style=[\"r--\", \"r--.\", \"b-\", \"b-*\"])\n",
    "plt.legend(loc=\"lower left\", fontsize = 10)\n",
    "plt.title(\"layer (300,30) MNIST model\")\n",
    "plt.show()"
   ],
   "metadata": {
    "collapsed": false,
    "ExecuteTime": {
     "end_time": "2024-04-07T18:37:17.294989200Z",
     "start_time": "2024-04-07T18:37:17.205251600Z"
    }
   }
  },
  {
   "cell_type": "code",
   "execution_count": 37,
   "outputs": [
    {
     "name": "stdout",
     "output_type": "stream",
     "text": [
      "313/313 [==============================] - 0s 808us/step - loss: 0.3245 - accuracy: 0.8843\n"
     ]
    },
    {
     "data": {
      "text/plain": "[0.3245372176170349, 0.8842999935150146]"
     },
     "execution_count": 37,
     "metadata": {},
     "output_type": "execute_result"
    }
   ],
   "source": [
    "# test result\n",
    "\n",
    "model4.evaluate(X_test,y_test)"
   ],
   "metadata": {
    "collapsed": false,
    "ExecuteTime": {
     "end_time": "2024-04-07T18:43:16.248027600Z",
     "start_time": "2024-04-07T18:43:15.880810900Z"
    }
   }
  },
  {
   "cell_type": "code",
   "execution_count": 17,
   "metadata": {
    "ExecuteTime": {
     "end_time": "2024-04-07T18:37:17.379728900Z",
     "start_time": "2024-04-07T18:37:17.294989200Z"
    }
   },
   "outputs": [
    {
     "name": "stdout",
     "output_type": "stream",
     "text": [
      "Model: \"sequential_4\"\n",
      "_________________________________________________________________\n",
      " Layer (type)                Output Shape              Param #   \n",
      "=================================================================\n",
      " flatten_4 (Flatten)         (None, 784)               0         \n",
      "                                                                 \n",
      " dense_14 (Dense)            (None, 100)               78500     \n",
      "                                                                 \n",
      " dense_15 (Dense)            (None, 30)                3030      \n",
      "                                                                 \n",
      " dense_16 (Dense)            (None, 10)                310       \n",
      "                                                                 \n",
      "=================================================================\n",
      "Total params: 81840 (319.69 KB)\n",
      "Trainable params: 81840 (319.69 KB)\n",
      "Non-trainable params: 0 (0.00 Byte)\n",
      "_________________________________________________________________\n"
     ]
    }
   ],
   "source": [
    "#5\n",
    "\n",
    "# 100, 30 to each layer\n",
    "\n",
    "model5 = tf.keras.Sequential()\n",
    "model5.add(tf.keras.layers.Input(shape=(28, 28)))\n",
    "model5.add(tf.keras.layers.Flatten())\n",
    "model5.add(tf.keras.layers.Dense(100, activation=\"relu\"))\n",
    "model5.add(tf.keras.layers.Dense(30, activation=\"relu\"))\n",
    "model5.add(tf.keras.layers.Dense(10, activation=\"softmax\"))\n",
    "\n",
    "model5.summary()"
   ]
  },
  {
   "cell_type": "code",
   "execution_count": 18,
   "outputs": [
    {
     "name": "stdout",
     "output_type": "stream",
     "text": [
      "Epoch 1/30\n",
      "1719/1719 [==============================] - 2s 1ms/step - loss: 0.7624 - accuracy: 0.7461 - val_loss: 0.5159 - val_accuracy: 0.8246\n",
      "Epoch 2/30\n",
      "1719/1719 [==============================] - 2s 1ms/step - loss: 0.5008 - accuracy: 0.8264 - val_loss: 0.4640 - val_accuracy: 0.8332\n",
      "Epoch 3/30\n",
      "1719/1719 [==============================] - 2s 1ms/step - loss: 0.4532 - accuracy: 0.8411 - val_loss: 0.4306 - val_accuracy: 0.8482\n",
      "Epoch 4/30\n",
      "1719/1719 [==============================] - 2s 1ms/step - loss: 0.4281 - accuracy: 0.8494 - val_loss: 0.4079 - val_accuracy: 0.8542\n",
      "Epoch 5/30\n",
      "1719/1719 [==============================] - 2s 1ms/step - loss: 0.4077 - accuracy: 0.8575 - val_loss: 0.4022 - val_accuracy: 0.8550\n",
      "Epoch 6/30\n",
      "1719/1719 [==============================] - 2s 1ms/step - loss: 0.3923 - accuracy: 0.8615 - val_loss: 0.4113 - val_accuracy: 0.8536\n",
      "Epoch 7/30\n",
      "1719/1719 [==============================] - 2s 1ms/step - loss: 0.3810 - accuracy: 0.8650 - val_loss: 0.3796 - val_accuracy: 0.8634\n",
      "Epoch 8/30\n",
      "1719/1719 [==============================] - 2s 1ms/step - loss: 0.3698 - accuracy: 0.8696 - val_loss: 0.3838 - val_accuracy: 0.8632\n",
      "Epoch 9/30\n",
      "1719/1719 [==============================] - 2s 1ms/step - loss: 0.3599 - accuracy: 0.8735 - val_loss: 0.3635 - val_accuracy: 0.8702\n",
      "Epoch 10/30\n",
      "1719/1719 [==============================] - 2s 1ms/step - loss: 0.3506 - accuracy: 0.8753 - val_loss: 0.3700 - val_accuracy: 0.8664\n",
      "Epoch 11/30\n",
      "1719/1719 [==============================] - 2s 1ms/step - loss: 0.3427 - accuracy: 0.8783 - val_loss: 0.3703 - val_accuracy: 0.8672\n",
      "Epoch 12/30\n",
      "1719/1719 [==============================] - 2s 1ms/step - loss: 0.3351 - accuracy: 0.8800 - val_loss: 0.3645 - val_accuracy: 0.8668\n",
      "Epoch 13/30\n",
      "1719/1719 [==============================] - 2s 1ms/step - loss: 0.3285 - accuracy: 0.8842 - val_loss: 0.3440 - val_accuracy: 0.8766\n",
      "Epoch 14/30\n",
      "1719/1719 [==============================] - 2s 1ms/step - loss: 0.3219 - accuracy: 0.8854 - val_loss: 0.3524 - val_accuracy: 0.8744\n",
      "Epoch 15/30\n",
      "1719/1719 [==============================] - 2s 1ms/step - loss: 0.3158 - accuracy: 0.8878 - val_loss: 0.3467 - val_accuracy: 0.8774\n",
      "Epoch 16/30\n",
      "1719/1719 [==============================] - 2s 1ms/step - loss: 0.3092 - accuracy: 0.8906 - val_loss: 0.3411 - val_accuracy: 0.8758\n",
      "Epoch 17/30\n",
      "1719/1719 [==============================] - 2s 1ms/step - loss: 0.3048 - accuracy: 0.8902 - val_loss: 0.3506 - val_accuracy: 0.8692\n",
      "Epoch 18/30\n",
      "1719/1719 [==============================] - 2s 1ms/step - loss: 0.2990 - accuracy: 0.8927 - val_loss: 0.3367 - val_accuracy: 0.8800\n",
      "Epoch 19/30\n",
      "1719/1719 [==============================] - 2s 1ms/step - loss: 0.2944 - accuracy: 0.8938 - val_loss: 0.3632 - val_accuracy: 0.8628\n",
      "Epoch 20/30\n",
      "1719/1719 [==============================] - 2s 1ms/step - loss: 0.2898 - accuracy: 0.8970 - val_loss: 0.3352 - val_accuracy: 0.8796\n",
      "Epoch 21/30\n",
      "1719/1719 [==============================] - 2s 1ms/step - loss: 0.2852 - accuracy: 0.8977 - val_loss: 0.3322 - val_accuracy: 0.8804\n",
      "Epoch 22/30\n",
      "1719/1719 [==============================] - 2s 1ms/step - loss: 0.2803 - accuracy: 0.8991 - val_loss: 0.3285 - val_accuracy: 0.8798\n",
      "Epoch 23/30\n",
      "1719/1719 [==============================] - 2s 1ms/step - loss: 0.2765 - accuracy: 0.9004 - val_loss: 0.3555 - val_accuracy: 0.8698\n",
      "Epoch 24/30\n",
      "1719/1719 [==============================] - 2s 1ms/step - loss: 0.2716 - accuracy: 0.9027 - val_loss: 0.3383 - val_accuracy: 0.8758\n",
      "Epoch 25/30\n",
      "1719/1719 [==============================] - 2s 1ms/step - loss: 0.2680 - accuracy: 0.9028 - val_loss: 0.3282 - val_accuracy: 0.8774\n",
      "Epoch 26/30\n",
      "1719/1719 [==============================] - 2s 1ms/step - loss: 0.2649 - accuracy: 0.9048 - val_loss: 0.3265 - val_accuracy: 0.8820\n",
      "Epoch 27/30\n",
      "1719/1719 [==============================] - 2s 1ms/step - loss: 0.2601 - accuracy: 0.9058 - val_loss: 0.3402 - val_accuracy: 0.8822\n",
      "Epoch 28/30\n",
      "1719/1719 [==============================] - 2s 1ms/step - loss: 0.2580 - accuracy: 0.9063 - val_loss: 0.3308 - val_accuracy: 0.8804\n",
      "Epoch 29/30\n",
      "1719/1719 [==============================] - 2s 1ms/step - loss: 0.2541 - accuracy: 0.9074 - val_loss: 0.3280 - val_accuracy: 0.8822\n",
      "Epoch 30/30\n",
      "1719/1719 [==============================] - 2s 1ms/step - loss: 0.2510 - accuracy: 0.9089 - val_loss: 0.3234 - val_accuracy: 0.8828\n"
     ]
    }
   ],
   "source": [
    "# train the model\n",
    "\n",
    "model5.compile(loss=\"sparse_categorical_crossentropy\",\n",
    "              optimizer=\"sgd\",\n",
    "              metrics=[\"accuracy\"])\n",
    "\n",
    "history5 = model5.fit(X_train, y_train, epochs=30,\n",
    "                    validation_data=(X_valid, y_valid))"
   ],
   "metadata": {
    "collapsed": false,
    "ExecuteTime": {
     "end_time": "2024-04-07T18:38:10.408308Z",
     "start_time": "2024-04-07T18:37:17.333776700Z"
    }
   }
  },
  {
   "cell_type": "code",
   "execution_count": 19,
   "outputs": [
    {
     "data": {
      "text/plain": "<Figure size 800x500 with 1 Axes>",
      "image/png": "[encoded data removed]"
     },
     "metadata": {},
     "output_type": "display_data"
    }
   ],
   "source": [
    "# show model\n",
    "\n",
    "pd.DataFrame(history5.history).plot(\n",
    "    figsize=(8, 5), xlim=[0, 29], ylim=[0, 1], grid=True, xlabel=\"Epoch\",\n",
    "    style=[\"r--\", \"r--.\", \"b-\", \"b-*\"])\n",
    "plt.legend(loc=\"lower left\", fontsize = 10)\n",
    "plt.title(\"layer (100,30) MNIST model\")\n",
    "plt.show()"
   ],
   "metadata": {
    "collapsed": false,
    "ExecuteTime": {
     "end_time": "2024-04-07T18:38:10.499545100Z",
     "start_time": "2024-04-07T18:38:10.408308Z"
    }
   }
  },
  {
   "cell_type": "code",
   "execution_count": 38,
   "outputs": [
    {
     "name": "stdout",
     "output_type": "stream",
     "text": [
      "313/313 [==============================] - 0s 736us/step - loss: 0.3443 - accuracy: 0.8778\n"
     ]
    },
    {
     "data": {
      "text/plain": "[0.34430262446403503, 0.8777999877929688]"
     },
     "execution_count": 38,
     "metadata": {},
     "output_type": "execute_result"
    }
   ],
   "source": [
    "# test result\n",
    "\n",
    "model5.evaluate(X_test,y_test)"
   ],
   "metadata": {
    "collapsed": false,
    "ExecuteTime": {
     "end_time": "2024-04-07T18:43:27.891610600Z",
     "start_time": "2024-04-07T18:43:27.550678600Z"
    }
   }
  },
  {
   "cell_type": "markdown",
   "metadata": {},
   "source": [
    "### #6  **결과 분석**\n",
    "\n",
    "1. 학습 시간\n",
    "학습 시간은 param의 수에 비례하여 증가함을 확인 할 수가 있다. 예를 들어 model1은 총 param의 개수가 356910개 일 때 step 당 평균적으로 3s의 시간이 걸렸는데,\n",
    "총 886110개의 param을 가진 model3는 평균 4s이 결렸다.\n",
    "\n",
    "2. training loss\n",
    "모든 model이 epoch이 진행됨에 따라 계속해서 loss가 감소함을 확인 할 수 있었다. 여기서는 30 epoch 까지만 진행하였지만, 더 진행하면 loss가 더 감소할 것으로 생각된다.\n",
    "\n",
    "3. test accuracy\n",
    "**model1: 0.8894\n",
    "model2: 0.8867\n",
    "model3: 0.8891\n",
    "model4: 0.8843\n",
    "model5: 0.8778**\n",
    "hidden layer (300,300,100)을 가진 model1이 가장 좋은 결과를 내었다. param 수보다는 layer의 수에 좀 더 많은 영향을 받는 것으로 보인다."
   ]
  },
  {
   "cell_type": "markdown",
   "metadata": {},
   "source": [
    "### Exercise 10.3  \n",
    "\n",
    "Refer the previous cells. \n",
    "Plot the loss curves and obtain mse_test values for the following learning rates and epochs\n",
    "1) 2e-3, epoch = 5  \n",
    "2) 2e-3, epoch = 10  \n",
    "3) 1e-3, epoch = 10  \n",
    "4) 5e-4, epoch = 10  \n",
    "5) 5e-4, epoch = 20     \n",
    "Discuss the results for the above hyperparameters."
   ]
  },
  {
   "cell_type": "code",
   "execution_count": 44,
   "metadata": {
    "ExecuteTime": {
     "end_time": "2024-04-07T19:32:53.579791700Z",
     "start_time": "2024-04-07T19:32:53.435194900Z"
    }
   },
   "outputs": [],
   "source": [
    "# Model definition\n",
    "\n",
    "# we'll use the model with the best result; which is, model1 with (300, 300, 100)\n",
    "\n",
    "model_1 = tf.keras.Sequential([\n",
    "    tf.keras.layers.Flatten(input_shape=[28, 28]),\n",
    "    tf.keras.layers.Dense(300, activation=\"relu\"),\n",
    "    tf.keras.layers.Dense(300, activation=\"relu\"),\n",
    "    tf.keras.layers.Dense(100, activation=\"relu\"),\n",
    "    tf.keras.layers.Dense(10, activation=\"softmax\")\n",
    "])\n",
    "\n",
    "model_2 = tf.keras.Sequential([\n",
    "    tf.keras.layers.Flatten(input_shape=[28, 28]),\n",
    "    tf.keras.layers.Dense(300, activation=\"relu\"),\n",
    "    tf.keras.layers.Dense(300, activation=\"relu\"),\n",
    "    tf.keras.layers.Dense(100, activation=\"relu\"),\n",
    "    tf.keras.layers.Dense(10, activation=\"softmax\")\n",
    "])\n",
    "\n",
    "model_3 = tf.keras.Sequential([\n",
    "    tf.keras.layers.Flatten(input_shape=[28, 28]),\n",
    "    tf.keras.layers.Dense(300, activation=\"relu\"),\n",
    "    tf.keras.layers.Dense(300, activation=\"relu\"),\n",
    "    tf.keras.layers.Dense(100, activation=\"relu\"),\n",
    "    tf.keras.layers.Dense(10, activation=\"softmax\")\n",
    "])\n",
    "\n",
    "model_4 = tf.keras.Sequential([\n",
    "    tf.keras.layers.Flatten(input_shape=[28, 28]),\n",
    "    tf.keras.layers.Dense(300, activation=\"relu\"),\n",
    "    tf.keras.layers.Dense(300, activation=\"relu\"),\n",
    "    tf.keras.layers.Dense(100, activation=\"relu\"),\n",
    "    tf.keras.layers.Dense(10, activation=\"softmax\")\n",
    "])\n",
    "\n",
    "model_5 = tf.keras.Sequential([\n",
    "    tf.keras.layers.Flatten(input_shape=[28, 28]),\n",
    "    tf.keras.layers.Dense(300, activation=\"relu\"),\n",
    "    tf.keras.layers.Dense(300, activation=\"relu\"),\n",
    "    tf.keras.layers.Dense(100, activation=\"relu\"),\n",
    "    tf.keras.layers.Dense(10, activation=\"softmax\")\n",
    "])"
   ]
  },
  {
   "cell_type": "code",
   "execution_count": 46,
   "metadata": {
    "ExecuteTime": {
     "end_time": "2024-04-07T19:37:04.550599400Z",
     "start_time": "2024-04-07T19:34:17.693118500Z"
    }
   },
   "outputs": [
    {
     "name": "stdout",
     "output_type": "stream",
     "text": [
      "Epoch 1/5\n",
      "1719/1719 [==============================] - 4s 2ms/step - loss: 0.4731 - accuracy: 0.8361 - val_loss: 0.4594 - val_accuracy: 0.8392\n",
      "Epoch 2/5\n",
      "1719/1719 [==============================] - 3s 2ms/step - loss: 0.4566 - accuracy: 0.8414 - val_loss: 0.4466 - val_accuracy: 0.8398\n",
      "Epoch 3/5\n",
      "1719/1719 [==============================] - 3s 2ms/step - loss: 0.4428 - accuracy: 0.8461 - val_loss: 0.4297 - val_accuracy: 0.8496\n",
      "Epoch 4/5\n",
      "1719/1719 [==============================] - 3s 2ms/step - loss: 0.4326 - accuracy: 0.8512 - val_loss: 0.4208 - val_accuracy: 0.8532\n",
      "Epoch 5/5\n",
      "1719/1719 [==============================] - 3s 2ms/step - loss: 0.4224 - accuracy: 0.8551 - val_loss: 0.4151 - val_accuracy: 0.8554\n",
      "\n",
      "Epoch 1/10\n",
      "1719/1719 [==============================] - 4s 2ms/step - loss: 0.4093 - accuracy: 0.8584 - val_loss: 0.4177 - val_accuracy: 0.8516\n",
      "Epoch 2/10\n",
      "1719/1719 [==============================] - 3s 2ms/step - loss: 0.4025 - accuracy: 0.8608 - val_loss: 0.4018 - val_accuracy: 0.8560\n",
      "Epoch 3/10\n",
      "1719/1719 [==============================] - 3s 2ms/step - loss: 0.3952 - accuracy: 0.8623 - val_loss: 0.3922 - val_accuracy: 0.8620\n",
      "Epoch 4/10\n",
      "1719/1719 [==============================] - 3s 2ms/step - loss: 0.3903 - accuracy: 0.8648 - val_loss: 0.3878 - val_accuracy: 0.8628\n",
      "Epoch 5/10\n",
      "1719/1719 [==============================] - 3s 2ms/step - loss: 0.3839 - accuracy: 0.8665 - val_loss: 0.3902 - val_accuracy: 0.8598\n",
      "Epoch 6/10\n",
      "1719/1719 [==============================] - 3s 2ms/step - loss: 0.3786 - accuracy: 0.8685 - val_loss: 0.3916 - val_accuracy: 0.8620\n",
      "Epoch 7/10\n",
      "1719/1719 [==============================] - 3s 2ms/step - loss: 0.3743 - accuracy: 0.8700 - val_loss: 0.3835 - val_accuracy: 0.8662\n",
      "Epoch 8/10\n",
      "1719/1719 [==============================] - 3s 2ms/step - loss: 0.3703 - accuracy: 0.8715 - val_loss: 0.3887 - val_accuracy: 0.8620\n",
      "Epoch 9/10\n",
      "1719/1719 [==============================] - 3s 2ms/step - loss: 0.3656 - accuracy: 0.8737 - val_loss: 0.3735 - val_accuracy: 0.8696\n",
      "Epoch 10/10\n",
      "1719/1719 [==============================] - 3s 2ms/step - loss: 0.3608 - accuracy: 0.8745 - val_loss: 0.3715 - val_accuracy: 0.8708\n",
      "\n",
      "Epoch 1/10\n",
      "1719/1719 [==============================] - 4s 2ms/step - loss: 0.5919 - accuracy: 0.8054 - val_loss: 0.5577 - val_accuracy: 0.8150\n",
      "Epoch 2/10\n",
      "1719/1719 [==============================] - 3s 2ms/step - loss: 0.5559 - accuracy: 0.8152 - val_loss: 0.5287 - val_accuracy: 0.8204\n",
      "Epoch 3/10\n",
      "1719/1719 [==============================] - 3s 2ms/step - loss: 0.5300 - accuracy: 0.8216 - val_loss: 0.5057 - val_accuracy: 0.8284\n",
      "Epoch 4/10\n",
      "1719/1719 [==============================] - 3s 2ms/step - loss: 0.5107 - accuracy: 0.8271 - val_loss: 0.4917 - val_accuracy: 0.8318\n",
      "Epoch 5/10\n",
      "1719/1719 [==============================] - 3s 2ms/step - loss: 0.4952 - accuracy: 0.8314 - val_loss: 0.4803 - val_accuracy: 0.8306\n",
      "Epoch 6/10\n",
      "1719/1719 [==============================] - 3s 2ms/step - loss: 0.4824 - accuracy: 0.8345 - val_loss: 0.4755 - val_accuracy: 0.8332\n",
      "Epoch 7/10\n",
      "1719/1719 [==============================] - 3s 2ms/step - loss: 0.4724 - accuracy: 0.8370 - val_loss: 0.4615 - val_accuracy: 0.8388\n",
      "Epoch 8/10\n",
      "1719/1719 [==============================] - 3s 2ms/step - loss: 0.4636 - accuracy: 0.8408 - val_loss: 0.4571 - val_accuracy: 0.8354\n",
      "Epoch 9/10\n",
      "1719/1719 [==============================] - 3s 2ms/step - loss: 0.4557 - accuracy: 0.8427 - val_loss: 0.4475 - val_accuracy: 0.8430\n",
      "Epoch 10/10\n",
      "1719/1719 [==============================] - 3s 2ms/step - loss: 0.4483 - accuracy: 0.8450 - val_loss: 0.4398 - val_accuracy: 0.8456\n",
      "\n",
      "Epoch 1/10\n",
      "1719/1719 [==============================] - 4s 2ms/step - loss: 1.8590 - accuracy: 0.4677 - val_loss: 1.4254 - val_accuracy: 0.6608\n",
      "Epoch 2/10\n",
      "1719/1719 [==============================] - 3s 2ms/step - loss: 1.1877 - accuracy: 0.6708 - val_loss: 0.9878 - val_accuracy: 0.7022\n",
      "Epoch 3/10\n",
      "1719/1719 [==============================] - 3s 2ms/step - loss: 0.9108 - accuracy: 0.7131 - val_loss: 0.8162 - val_accuracy: 0.7420\n",
      "Epoch 4/10\n",
      "1719/1719 [==============================] - 3s 2ms/step - loss: 0.7888 - accuracy: 0.7479 - val_loss: 0.7287 - val_accuracy: 0.7656\n",
      "Epoch 5/10\n",
      "1719/1719 [==============================] - 3s 2ms/step - loss: 0.7176 - accuracy: 0.7680 - val_loss: 0.6736 - val_accuracy: 0.7764\n",
      "Epoch 6/10\n",
      "1719/1719 [==============================] - 3s 2ms/step - loss: 0.6681 - accuracy: 0.7833 - val_loss: 0.6351 - val_accuracy: 0.7840\n",
      "Epoch 7/10\n",
      "1719/1719 [==============================] - 3s 2ms/step - loss: 0.6314 - accuracy: 0.7935 - val_loss: 0.6036 - val_accuracy: 0.7950\n",
      "Epoch 8/10\n",
      "1719/1719 [==============================] - 3s 2ms/step - loss: 0.6032 - accuracy: 0.8016 - val_loss: 0.5783 - val_accuracy: 0.8024\n",
      "Epoch 9/10\n",
      "1719/1719 [==============================] - 3s 2ms/step - loss: 0.5805 - accuracy: 0.8083 - val_loss: 0.5602 - val_accuracy: 0.8112\n",
      "Epoch 10/10\n",
      "1719/1719 [==============================] - 3s 2ms/step - loss: 0.5617 - accuracy: 0.8131 - val_loss: 0.5437 - val_accuracy: 0.8152\n",
      "\n",
      "Epoch 1/20\n",
      "1719/1719 [==============================] - 4s 2ms/step - loss: 1.8448 - accuracy: 0.5091 - val_loss: 1.4164 - val_accuracy: 0.6516\n",
      "Epoch 2/20\n",
      "1719/1719 [==============================] - 3s 2ms/step - loss: 1.1752 - accuracy: 0.6595 - val_loss: 0.9810 - val_accuracy: 0.6832\n",
      "Epoch 3/20\n",
      "1719/1719 [==============================] - 3s 2ms/step - loss: 0.9062 - accuracy: 0.7020 - val_loss: 0.8175 - val_accuracy: 0.7314\n",
      "Epoch 4/20\n",
      "1719/1719 [==============================] - 3s 2ms/step - loss: 0.7908 - accuracy: 0.7395 - val_loss: 0.7347 - val_accuracy: 0.7612\n",
      "Epoch 5/20\n",
      "1719/1719 [==============================] - 3s 2ms/step - loss: 0.7240 - accuracy: 0.7614 - val_loss: 0.6828 - val_accuracy: 0.7736\n",
      "Epoch 6/20\n",
      "1719/1719 [==============================] - 3s 2ms/step - loss: 0.6777 - accuracy: 0.7778 - val_loss: 0.6458 - val_accuracy: 0.7814\n",
      "Epoch 7/20\n",
      "1719/1719 [==============================] - 3s 2ms/step - loss: 0.6422 - accuracy: 0.7891 - val_loss: 0.6138 - val_accuracy: 0.7918\n",
      "Epoch 8/20\n",
      "1719/1719 [==============================] - 3s 2ms/step - loss: 0.6145 - accuracy: 0.7979 - val_loss: 0.5895 - val_accuracy: 0.8006\n",
      "Epoch 9/20\n",
      "1719/1719 [==============================] - 3s 2ms/step - loss: 0.5916 - accuracy: 0.8049 - val_loss: 0.5704 - val_accuracy: 0.8094\n",
      "Epoch 10/20\n",
      "1719/1719 [==============================] - 3s 2ms/step - loss: 0.5722 - accuracy: 0.8100 - val_loss: 0.5534 - val_accuracy: 0.8140\n",
      "Epoch 11/20\n",
      "1719/1719 [==============================] - 3s 2ms/step - loss: 0.5562 - accuracy: 0.8149 - val_loss: 0.5368 - val_accuracy: 0.8156\n",
      "Epoch 12/20\n",
      "1719/1719 [==============================] - 3s 2ms/step - loss: 0.5423 - accuracy: 0.8184 - val_loss: 0.5275 - val_accuracy: 0.8208\n",
      "Epoch 13/20\n",
      "1719/1719 [==============================] - 3s 2ms/step - loss: 0.5300 - accuracy: 0.8220 - val_loss: 0.5137 - val_accuracy: 0.8216\n",
      "Epoch 14/20\n",
      "1719/1719 [==============================] - 3s 2ms/step - loss: 0.5196 - accuracy: 0.8250 - val_loss: 0.5047 - val_accuracy: 0.8258\n",
      "Epoch 15/20\n",
      "1719/1719 [==============================] - 3s 2ms/step - loss: 0.5101 - accuracy: 0.8279 - val_loss: 0.4984 - val_accuracy: 0.8280\n",
      "Epoch 16/20\n",
      "1719/1719 [==============================] - 3s 2ms/step - loss: 0.5015 - accuracy: 0.8298 - val_loss: 0.4897 - val_accuracy: 0.8262\n",
      "Epoch 17/20\n",
      "1719/1719 [==============================] - 3s 2ms/step - loss: 0.4939 - accuracy: 0.8325 - val_loss: 0.4827 - val_accuracy: 0.8280\n",
      "Epoch 18/20\n",
      "1719/1719 [==============================] - 3s 2ms/step - loss: 0.4873 - accuracy: 0.8343 - val_loss: 0.4766 - val_accuracy: 0.8302\n",
      "Epoch 19/20\n",
      "1719/1719 [==============================] - 3s 2ms/step - loss: 0.4809 - accuracy: 0.8362 - val_loss: 0.4708 - val_accuracy: 0.8316\n",
      "Epoch 20/20\n",
      "1719/1719 [==============================] - 3s 2ms/step - loss: 0.4753 - accuracy: 0.8376 - val_loss: 0.4646 - val_accuracy: 0.8326\n"
     ]
    }
   ],
   "source": [
    "# 1,2,3,4,5 compile -> fit\n",
    "\n",
    "model_1.compile(loss=\"sparse_categorical_crossentropy\",\n",
    "              optimizer=tf.keras.optimizers.SGD(learning_rate=2e-3),\n",
    "              metrics=[\"accuracy\"])\n",
    "\n",
    "model_2.compile(loss=\"sparse_categorical_crossentropy\",\n",
    "              optimizer=tf.keras.optimizers.SGD(learning_rate=2e-3),\n",
    "              metrics=[\"accuracy\"])\n",
    "\n",
    "model_3.compile(loss=\"sparse_categorical_crossentropy\",\n",
    "              optimizer=tf.keras.optimizers.SGD(learning_rate=1e-3),\n",
    "              metrics=[\"accuracy\"])\n",
    "\n",
    "model_4.compile(loss=\"sparse_categorical_crossentropy\",\n",
    "              optimizer=tf.keras.optimizers.SGD(learning_rate=5e-4),\n",
    "              metrics=[\"accuracy\"])\n",
    "\n",
    "model_5.compile(loss=\"sparse_categorical_crossentropy\",\n",
    "              optimizer=tf.keras.optimizers.SGD(learning_rate=5e-4),\n",
    "              metrics=[\"accuracy\"])\n",
    "\n",
    "history_1 = model_1.fit(X_train, y_train, epochs=5,\n",
    "                    validation_data=(X_valid, y_valid))\n",
    "\n",
    "print(\"\\n\\n\")\n",
    "\n",
    "history_2 = model_2.fit(X_train, y_train, epochs=10,\n",
    "                    validation_data=(X_valid, y_valid))\n",
    "\n",
    "print(\"\\n\\n\")\n",
    "\n",
    "history_3 = model_3.fit(X_train, y_train, epochs=10,\n",
    "                    validation_data=(X_valid, y_valid))\n",
    "\n",
    "print(\"\\n\\n\")\n",
    "\n",
    "history_4 = model_4.fit(X_train, y_train, epochs=10,\n",
    "                    validation_data=(X_valid, y_valid))\n",
    "\n",
    "print(\"\\n\\n\")\n",
    "\n",
    "history_5 = model_5.fit(X_train, y_train, epochs=20,\n",
    "                    validation_data=(X_valid, y_valid))"
   ]
  },
  {
   "cell_type": "code",
   "execution_count": 52,
   "outputs": [
    {
     "name": "stdout",
     "output_type": "stream",
     "text": [
      "313/313 [==============================] - 0s 1ms/step - loss: 0.4516 - accuracy: 0.8417\n",
      "313/313 [==============================] - 0s 966us/step - loss: 0.4022 - accuracy: 0.8587\n",
      "313/313 [==============================] - 0s 897us/step - loss: 0.4736 - accuracy: 0.8313\n",
      "313/313 [==============================] - 0s 919us/step - loss: 0.5765 - accuracy: 0.8015\n",
      "313/313 [==============================] - 0s 908us/step - loss: 0.4997 - accuracy: 0.8263\n",
      "test results([loss, accuracy]):\n",
      "1. [0.45 0.84]\n",
      "2. [0.4  0.86]\n",
      "3. [0.47 0.83]\n",
      "4. [0.58 0.8 ]\n",
      "5. [0.5  0.83]\n"
     ]
    }
   ],
   "source": [
    "# get test results\n",
    "\n",
    "print(f\"test results([loss, accuracy]):\\n1. {np.round(model_1.evaluate(X_test,y_test),2)}\\n\"\n",
    "      f\"2. {np.round(model_2.evaluate(X_test,y_test),2)}\\n\"\n",
    "      f\"3. {np.round(model_3.evaluate(X_test,y_test),2)}\\n\"\n",
    "      f\"4. {np.round(model_4.evaluate(X_test,y_test),2)}\\n\"\n",
    "      f\"5. {np.round(model_5.evaluate(X_test,y_test),2)}\")"
   ],
   "metadata": {
    "collapsed": false,
    "ExecuteTime": {
     "end_time": "2024-04-07T19:49:14.690512300Z",
     "start_time": "2024-04-07T19:49:12.930670900Z"
    }
   }
  },
  {
   "cell_type": "code",
   "execution_count": 70,
   "metadata": {
    "ExecuteTime": {
     "end_time": "2024-04-07T20:22:27.941788100Z",
     "start_time": "2024-04-07T20:22:27.835237500Z"
    }
   },
   "outputs": [
    {
     "data": {
      "text/plain": "<Figure size 640x480 with 1 Axes>",
      "image/png": "[encoded data removed]"
     },
     "metadata": {},
     "output_type": "display_data"
    }
   ],
   "source": [
    "# plot each model\n",
    "\n",
    "\n",
    "plt.plot(history_1.history['loss'], 'r--.', label = '2e-3')\n",
    "plt.plot(history_2.history['loss'], 'b--.', label = '2e-3 (10 epoch)')\n",
    "plt.plot(history_3.history['loss'], 'g--.', label = '1e-3')\n",
    "plt.plot(history_4.history['loss'], 'y--.', label = '5e-4')\n",
    "plt.plot(history_5.history['loss'], 'c--.', label = '5e-4 (20 epoch)')\n",
    "plt.grid(True)\n",
    "plt.xlabel(\"Epoch\")\n",
    "plt.xlim([0,20])\n",
    "plt.ylim([0,1.5])\n",
    "plt.legend(fontsize = 10)\n",
    "plt.title(\"MNIST model with numerous lr\")\n",
    "plt.show()"
   ]
  },
  {
   "cell_type": "markdown",
   "source": [
    "### #6 Discussion\n",
    "\n",
    "lr 값이 작아짐에 따라 초기 loss 값이 증가한다.\n",
    "다만 epoch이 진행됨에 따라 모든 loss 값이 감소함을 보인다. 결국 loss function 및 model이 동일하므로 각자 충분한 epoch 이후로 모두 같은 loss를 보일 것으로 생각된다."
   ],
   "metadata": {
    "collapsed": false
   }
  },
  {
   "cell_type": "markdown",
   "metadata": {},
   "source": [
    "### Exercise 10.4\n",
    "아래의 파라미터를 갖는 fully-connected network에 대해 다음 물음에 답하시오  \n",
    "Number of input features: Nf  \n",
    "Number of neurons in ith hidden nodes: Nni  \n",
    "Number of hidden layers: Nh  \n",
    "Number of output node: No  \n",
    "\n",
    "1. MAC(multiply and addition) operation의 수를 위에서 주어진 파라미터를 이용하여 식으로 표현하시오. 단, Nh=3이다.  \n",
    "2. 위의 california housing dataset에 대해 Nh=3, Nn1=Nn2=Nn3=30일 때 30 epoch 동안 학습후 loss, val_loss, mse_test값을 구하시오. Hyperparameter는 Regression MLP의 실습 코드와 같은 값을 이용한다. Tensorboard를 위해 log10 directory에 get_log_dir 함수를 이용하여 subdirectory를 생성하시오.  \n",
    "3. Nh=2일 때 MAC operation 수가 최대한 비슷하도록 Nn1=Nn2를 구하고 2와 같은 조건으로 학습시키고 loss, val_loss, mse_test값을 구하시오.\n",
    "4. Nh=1일 때 MAC operation 수가 최대한 비슷하도록 Nn1을 구하고 2와 같은 조건으로 학습시키고 loss, val_loss, mse_test값을 구하시오.  \n",
    "5. 2-4번의 결과를 비교하고 분석하시오. 또한 Tensorboard에서 learning curve를 비교하시오."
   ]
  },
  {
   "cell_type": "markdown",
   "source": [
    "#1. Number of MAC operations   \n",
    "#Answer: $Nf * Nn1 + Nn1 * Nn2 + Nn2 * Nn3 + Nn3 * No$\n"
   ],
   "metadata": {
    "collapsed": false
   }
  },
  {
   "cell_type": "code",
   "execution_count": 4,
   "outputs": [],
   "source": [
    "import shutil\n",
    "\n",
    "# background jobs for tensorboard\n",
    "\n",
    "if \"google.colab\" in sys.modules:\n",
    "    %pip install -q -U tensorboard-plugin-profile\n",
    "    \n",
    "shutil.rmtree(\"my_logs\", ignore_errors=True)\n",
    "\n",
    "from pathlib import Path\n",
    "from time import strftime\n",
    "\n",
    "def get_run_logdir(root_logdir=\"my_logs\"):\n",
    "    return Path(root_logdir) / strftime(\"run_%Y_%m_%d_%H_%M_%S\")\n",
    "\n",
    "run_logdir = get_run_logdir()"
   ],
   "metadata": {
    "collapsed": false,
    "ExecuteTime": {
     "end_time": "2024-04-08T07:14:46.543520100Z",
     "start_time": "2024-04-08T07:14:46.436855500Z"
    }
   }
  },
  {
   "cell_type": "code",
   "outputs": [],
   "source": [
    "#2.\n",
    "\n",
    "from sklearn.model_selection import train_test_split\n",
    "from sklearn.datasets import fetch_california_housing\n",
    "\n",
    "# get dataset\n",
    "\n",
    "housing = fetch_california_housing()\n",
    "X_train_full, X_test, y_train_full, y_test = train_test_split(\n",
    "    housing.data, housing.target, random_state=42)\n",
    "X_train, X_valid, y_train, y_valid = train_test_split(\n",
    "    X_train_full, y_train_full, random_state=42)\n",
    "\n",
    "tf.random.set_seed(42)\n",
    "\n",
    "# 3 -> (30,30,30) -> 1\n",
    "\n",
    "norm_layer = tf.keras.layers.Normalization(input_shape=X_train.shape[1:])\n",
    "\n",
    "model_housing1 = tf.keras.Sequential([\n",
    "    norm_layer,\n",
    "    tf.keras.layers.Dense(30, activation=\"relu\"),\n",
    "    tf.keras.layers.Dense(30, activation=\"relu\"),\n",
    "    tf.keras.layers.Dense(30, activation=\"relu\"),\n",
    "    tf.keras.layers.Dense(1)\n",
    "])\n",
    "\n",
    "optimizer_housing1 = tf.keras.optimizers.Adam(learning_rate=1e-3)\n",
    "model_housing1.compile(loss=\"mse\", optimizer=optimizer_housing1, metrics=[\"RootMeanSquaredError\"])\n",
    "norm_layer.adapt(X_train)\n",
    "# history_housing = model_housing.fit(X_train, y_train, epochs=30,\n",
    "#                     validation_data=(X_valid, y_valid))\n",
    "# mse_test, rmse_test = model_housing.evaluate(X_test, y_test)"
   ],
   "metadata": {
    "collapsed": false,
    "ExecuteTime": {
     "end_time": "2024-04-08T07:15:16.587255300Z",
     "start_time": "2024-04-08T07:15:15.682088800Z"
    }
   },
   "execution_count": 6
  },
  {
   "cell_type": "code",
   "execution_count": 7,
   "outputs": [
    {
     "name": "stderr",
     "output_type": "stream",
     "text": [
      "2024-04-08 16:16:44.915085: I external/local_tsl/tsl/profiler/lib/profiler_session.cc:104] Profiler session initializing.\n",
      "2024-04-08 16:16:44.915125: I external/local_tsl/tsl/profiler/lib/profiler_session.cc:119] Profiler session started.\n",
      "2024-04-08 16:16:44.915164: I external/local_xla/xla/backends/profiler/gpu/cupti_tracer.cc:1883] Profiler found 1 GPUs\n",
      "2024-04-08 16:16:44.915638: E external/local_xla/xla/backends/profiler/gpu/cupti_error_manager.cc:137] cuptiGetTimestamp: error 999: \n",
      "2024-04-08 16:16:44.915674: E external/local_xla/xla/backends/profiler/gpu/cupti_error_manager.cc:186] cuptiSubscribe: ignored due to a previous error.\n",
      "2024-04-08 16:16:44.915680: E external/local_xla/xla/backends/profiler/gpu/cupti_error_manager.cc:459] cuptiGetResultString: ignored due to a previous error.\n",
      "2024-04-08 16:16:44.915684: E external/local_xla/xla/backends/profiler/gpu/cupti_tracer.cc:1935] function cupti_interface_->Subscribe( &subscriber_, (CUpti_CallbackFunc)ApiCallback, this)failed with error \n",
      "2024-04-08 16:16:44.915751: I external/local_tsl/tsl/profiler/lib/profiler_session.cc:131] Profiler session tear down.\n",
      "2024-04-08 16:16:44.915766: E external/local_xla/xla/backends/profiler/gpu/cupti_error_manager.cc:142] cuptiFinalize: ignored due to a previous error.\n",
      "2024-04-08 16:16:44.915769: E external/local_xla/xla/backends/profiler/gpu/cupti_error_manager.cc:459] cuptiGetResultString: ignored due to a previous error.\n",
      "2024-04-08 16:16:44.915772: E external/local_xla/xla/backends/profiler/gpu/cupti_tracer.cc:2026] function cupti_interface_->Finalize()failed with error \n"
     ]
    },
    {
     "name": "stdout",
     "output_type": "stream",
     "text": [
      "Epoch 1/30\n"
     ]
    },
    {
     "name": "stderr",
     "output_type": "stream",
     "text": [
      "2024-04-08 16:16:52.676204: I external/local_xla/xla/service/service.cc:168] XLA service 0x7f66fc003d00 initialized for platform CUDA (this does not guarantee that XLA will be used). Devices:\n",
      "2024-04-08 16:16:52.676258: I external/local_xla/xla/service/service.cc:176]   StreamExecutor device (0): NVIDIA GeForce RTX 3070, Compute Capability 8.6\n",
      "2024-04-08 16:16:52.681632: I tensorflow/compiler/mlir/tensorflow/utils/dump_mlir_util.cc:269] disabling MLIR crash reproducer, set env var `MLIR_CRASH_REPRODUCER_DIRECTORY` to enable.\n",
      "2024-04-08 16:16:52.693595: I external/local_xla/xla/stream_executor/cuda/cuda_dnn.cc:454] Loaded cuDNN version 8904\n",
      "WARNING: All log messages before absl::InitializeLog() is called are written to STDERR\n",
      "I0000 00:00:1712560612.752927   14560 device_compiler.h:186] Compiled cluster using XLA!  This line is logged at most once for the lifetime of the process.\n"
     ]
    },
    {
     "name": "stdout",
     "output_type": "stream",
     "text": [
      "140/363 [==========>...................] - ETA: 1s - loss: 1.8504 - root_mean_squared_error: 1.3603"
     ]
    },
    {
     "name": "stderr",
     "output_type": "stream",
     "text": [
      "2024-04-08 16:16:53.749187: I external/local_tsl/tsl/profiler/lib/profiler_session.cc:104] Profiler session initializing.\n",
      "2024-04-08 16:16:53.749224: I external/local_tsl/tsl/profiler/lib/profiler_session.cc:119] Profiler session started.\n",
      "2024-04-08 16:16:53.749236: E external/local_xla/xla/backends/profiler/gpu/cupti_error_manager.cc:135] cuptiGetTimestamp: ignored due to a previous error.\n",
      "2024-04-08 16:16:53.749240: E external/local_xla/xla/backends/profiler/gpu/cupti_error_manager.cc:186] cuptiSubscribe: ignored due to a previous error.\n",
      "2024-04-08 16:16:53.749242: E external/local_xla/xla/backends/profiler/gpu/cupti_error_manager.cc:459] cuptiGetResultString: ignored due to a previous error.\n",
      "2024-04-08 16:16:53.749244: E external/local_xla/xla/backends/profiler/gpu/cupti_tracer.cc:1935] function cupti_interface_->Subscribe( &subscriber_, (CUpti_CallbackFunc)ApiCallback, this)failed with error \n"
     ]
    },
    {
     "name": "stdout",
     "output_type": "stream",
     "text": [
      "221/363 [=================>............] - ETA: 0s - loss: 1.4064 - root_mean_squared_error: 1.1859"
     ]
    },
    {
     "name": "stderr",
     "output_type": "stream",
     "text": [
      "2024-04-08 16:16:54.236195: I external/local_tsl/tsl/profiler/lib/profiler_session.cc:70] Profiler session collecting data.\n",
      "2024-04-08 16:16:54.237735: E external/local_xla/xla/backends/profiler/gpu/cupti_error_manager.cc:142] cuptiFinalize: ignored due to a previous error.\n",
      "2024-04-08 16:16:54.237778: E external/local_xla/xla/backends/profiler/gpu/cupti_error_manager.cc:459] cuptiGetResultString: ignored due to a previous error.\n",
      "2024-04-08 16:16:54.237783: E external/local_xla/xla/backends/profiler/gpu/cupti_tracer.cc:2026] function cupti_interface_->Finalize()failed with error \n",
      "2024-04-08 16:16:54.272901: E external/local_xla/xla/backends/profiler/gpu/cupti_error_manager.cc:135] cuptiGetTimestamp: ignored due to a previous error.\n",
      "2024-04-08 16:16:54.272986: E external/local_xla/xla/backends/profiler/gpu/cupti_error_manager.cc:135] cuptiGetTimestamp: ignored due to a previous error.\n",
      "2024-04-08 16:16:54.272996: I external/local_xla/xla/backends/profiler/gpu/cupti_collector.cc:541]  GpuTracer has collected 0 callback api events and 0 activity events. \n",
      "2024-04-08 16:16:54.290740: I external/local_tsl/tsl/profiler/lib/profiler_session.cc:131] Profiler session tear down.\n",
      "2024-04-08 16:16:54.297065: I external/local_tsl/tsl/profiler/rpc/client/save_profile.cc:144] Collecting XSpace to repository: my_logs/run_2024_04_08_16_14_46/plugins/profile/2024_04_08_16_16_54/DESKTOP-GN6TMN5.xplane.pb\n"
     ]
    },
    {
     "name": "stdout",
     "output_type": "stream",
     "text": [
      "363/363 [==============================] - 11s 7ms/step - loss: 1.0624 - root_mean_squared_error: 1.0307 - val_loss: 0.4785 - val_root_mean_squared_error: 0.6917\n",
      "Epoch 2/30\n",
      "363/363 [==============================] - 2s 6ms/step - loss: 0.4240 - root_mean_squared_error: 0.6512 - val_loss: 0.9170 - val_root_mean_squared_error: 0.9576\n",
      "Epoch 3/30\n",
      "363/363 [==============================] - 2s 6ms/step - loss: 0.3788 - root_mean_squared_error: 0.6154 - val_loss: 0.6230 - val_root_mean_squared_error: 0.7893\n",
      "Epoch 4/30\n",
      "363/363 [==============================] - 2s 5ms/step - loss: 0.3607 - root_mean_squared_error: 0.6006 - val_loss: 0.6726 - val_root_mean_squared_error: 0.8201\n",
      "Epoch 5/30\n",
      "363/363 [==============================] - 2s 5ms/step - loss: 0.3474 - root_mean_squared_error: 0.5894 - val_loss: 1.1287 - val_root_mean_squared_error: 1.0624\n",
      "Epoch 6/30\n",
      "363/363 [==============================] - 2s 6ms/step - loss: 0.3420 - root_mean_squared_error: 0.5848 - val_loss: 0.6048 - val_root_mean_squared_error: 0.7777\n",
      "Epoch 7/30\n",
      "363/363 [==============================] - 2s 6ms/step - loss: 0.3292 - root_mean_squared_error: 0.5738 - val_loss: 0.9531 - val_root_mean_squared_error: 0.9763\n",
      "Epoch 8/30\n",
      "363/363 [==============================] - 2s 6ms/step - loss: 0.3208 - root_mean_squared_error: 0.5664 - val_loss: 0.4680 - val_root_mean_squared_error: 0.6841\n",
      "Epoch 9/30\n",
      "363/363 [==============================] - 2s 6ms/step - loss: 0.3160 - root_mean_squared_error: 0.5622 - val_loss: 0.7152 - val_root_mean_squared_error: 0.8457\n",
      "Epoch 10/30\n",
      "363/363 [==============================] - 2s 6ms/step - loss: 0.3118 - root_mean_squared_error: 0.5584 - val_loss: 0.2927 - val_root_mean_squared_error: 0.5410\n",
      "Epoch 11/30\n",
      "363/363 [==============================] - 2s 6ms/step - loss: 0.3026 - root_mean_squared_error: 0.5501 - val_loss: 0.2939 - val_root_mean_squared_error: 0.5421\n",
      "Epoch 12/30\n",
      "363/363 [==============================] - 2s 6ms/step - loss: 0.3014 - root_mean_squared_error: 0.5490 - val_loss: 0.7682 - val_root_mean_squared_error: 0.8764\n",
      "Epoch 13/30\n",
      "363/363 [==============================] - 2s 6ms/step - loss: 0.2987 - root_mean_squared_error: 0.5465 - val_loss: 0.3234 - val_root_mean_squared_error: 0.5687\n",
      "Epoch 14/30\n",
      "363/363 [==============================] - 2s 6ms/step - loss: 0.2932 - root_mean_squared_error: 0.5415 - val_loss: 0.5331 - val_root_mean_squared_error: 0.7301\n",
      "Epoch 15/30\n",
      "363/363 [==============================] - 2s 6ms/step - loss: 0.2940 - root_mean_squared_error: 0.5422 - val_loss: 0.4410 - val_root_mean_squared_error: 0.6641\n",
      "Epoch 16/30\n",
      "363/363 [==============================] - 2s 6ms/step - loss: 0.2888 - root_mean_squared_error: 0.5374 - val_loss: 0.3899 - val_root_mean_squared_error: 0.6245\n",
      "Epoch 17/30\n",
      "363/363 [==============================] - 2s 6ms/step - loss: 0.2870 - root_mean_squared_error: 0.5357 - val_loss: 0.2906 - val_root_mean_squared_error: 0.5391\n",
      "Epoch 18/30\n",
      "363/363 [==============================] - 2s 6ms/step - loss: 0.2834 - root_mean_squared_error: 0.5324 - val_loss: 0.2928 - val_root_mean_squared_error: 0.5411\n",
      "Epoch 19/30\n",
      "363/363 [==============================] - 2s 5ms/step - loss: 0.2809 - root_mean_squared_error: 0.5300 - val_loss: 0.5402 - val_root_mean_squared_error: 0.7350\n",
      "Epoch 20/30\n",
      "363/363 [==============================] - 2s 7ms/step - loss: 0.2858 - root_mean_squared_error: 0.5346 - val_loss: 0.2794 - val_root_mean_squared_error: 0.5286\n",
      "Epoch 21/30\n",
      "363/363 [==============================] - 2s 6ms/step - loss: 0.2799 - root_mean_squared_error: 0.5290 - val_loss: 0.6511 - val_root_mean_squared_error: 0.8069\n",
      "Epoch 22/30\n",
      "363/363 [==============================] - 2s 6ms/step - loss: 0.2809 - root_mean_squared_error: 0.5300 - val_loss: 0.3324 - val_root_mean_squared_error: 0.5765\n",
      "Epoch 23/30\n",
      "363/363 [==============================] - 2s 6ms/step - loss: 0.2739 - root_mean_squared_error: 0.5233 - val_loss: 0.3081 - val_root_mean_squared_error: 0.5551\n",
      "Epoch 24/30\n",
      "363/363 [==============================] - 2s 6ms/step - loss: 0.2761 - root_mean_squared_error: 0.5254 - val_loss: 0.2748 - val_root_mean_squared_error: 0.5242\n",
      "Epoch 25/30\n",
      "363/363 [==============================] - 2s 6ms/step - loss: 0.2747 - root_mean_squared_error: 0.5241 - val_loss: 0.9430 - val_root_mean_squared_error: 0.9711\n",
      "Epoch 26/30\n",
      "363/363 [==============================] - 2s 6ms/step - loss: 0.2781 - root_mean_squared_error: 0.5274 - val_loss: 0.3693 - val_root_mean_squared_error: 0.6077\n",
      "Epoch 27/30\n",
      "363/363 [==============================] - 2s 6ms/step - loss: 0.2733 - root_mean_squared_error: 0.5228 - val_loss: 0.3549 - val_root_mean_squared_error: 0.5957\n",
      "Epoch 28/30\n",
      "363/363 [==============================] - 2s 6ms/step - loss: 0.2722 - root_mean_squared_error: 0.5217 - val_loss: 0.3133 - val_root_mean_squared_error: 0.5598\n",
      "Epoch 29/30\n",
      "363/363 [==============================] - 2s 5ms/step - loss: 0.2679 - root_mean_squared_error: 0.5175 - val_loss: 0.5180 - val_root_mean_squared_error: 0.7197\n",
      "Epoch 30/30\n",
      "363/363 [==============================] - 2s 6ms/step - loss: 0.2717 - root_mean_squared_error: 0.5213 - val_loss: 0.3067 - val_root_mean_squared_error: 0.5538\n"
     ]
    }
   ],
   "source": [
    "# save for later tensorboard\n",
    "\n",
    "tensorboard_cb = tf.keras.callbacks.TensorBoard(run_logdir,\n",
    "                                                profile_batch=(100, 200))\n",
    "history_housing1 = model_housing1.fit(X_train, y_train, epochs=30,\n",
    "                                    validation_data=(X_valid, y_valid),\n",
    "                                    callbacks=[tensorboard_cb])"
   ],
   "metadata": {
    "collapsed": false,
    "ExecuteTime": {
     "end_time": "2024-04-08T07:17:57.174902300Z",
     "start_time": "2024-04-08T07:16:44.914834300Z"
    }
   }
  },
  {
   "cell_type": "code",
   "execution_count": 8,
   "outputs": [
    {
     "name": "stdout",
     "output_type": "stream",
     "text": [
      "162/162 [==============================] - 1s 3ms/step - loss: 0.2880 - root_mean_squared_error: 0.5366\n"
     ]
    },
    {
     "data": {
      "text/plain": "[0.2879655659198761, 0.5366242527961731]"
     },
     "execution_count": 8,
     "metadata": {},
     "output_type": "execute_result"
    }
   ],
   "source": [
    "model_housing1.evaluate(X_test, y_test)"
   ],
   "metadata": {
    "collapsed": false,
    "ExecuteTime": {
     "end_time": "2024-04-08T07:18:39.215588200Z",
     "start_time": "2024-04-08T07:18:38.519678100Z"
    }
   }
  },
  {
   "cell_type": "code",
   "execution_count": 9,
   "metadata": {
    "ExecuteTime": {
     "end_time": "2024-04-08T07:23:04.246946200Z",
     "start_time": "2024-04-08T07:22:02.994797400Z"
    }
   },
   "outputs": [
    {
     "name": "stdout",
     "output_type": "stream",
     "text": [
      "Epoch 1/30\n",
      "133/363 [=========>....................] - ETA: 1s - loss: 1.8350 - root_mean_squared_error: 1.3546"
     ]
    },
    {
     "name": "stderr",
     "output_type": "stream",
     "text": [
      "2024-04-08 16:22:05.872317: I external/local_tsl/tsl/profiler/lib/profiler_session.cc:104] Profiler session initializing.\n",
      "2024-04-08 16:22:05.872360: I external/local_tsl/tsl/profiler/lib/profiler_session.cc:119] Profiler session started.\n",
      "2024-04-08 16:22:05.872378: E external/local_xla/xla/backends/profiler/gpu/cupti_error_manager.cc:135] cuptiGetTimestamp: ignored due to a previous error.\n",
      "2024-04-08 16:22:05.872383: E external/local_xla/xla/backends/profiler/gpu/cupti_error_manager.cc:186] cuptiSubscribe: ignored due to a previous error.\n",
      "2024-04-08 16:22:05.872386: E external/local_xla/xla/backends/profiler/gpu/cupti_error_manager.cc:459] cuptiGetResultString: ignored due to a previous error.\n",
      "2024-04-08 16:22:05.872389: E external/local_xla/xla/backends/profiler/gpu/cupti_tracer.cc:1935] function cupti_interface_->Subscribe( &subscriber_, (CUpti_CallbackFunc)ApiCallback, this)failed with error \n"
     ]
    },
    {
     "name": "stdout",
     "output_type": "stream",
     "text": [
      "219/363 [=================>............] - ETA: 0s - loss: 1.3576 - root_mean_squared_error: 1.1651"
     ]
    },
    {
     "name": "stderr",
     "output_type": "stream",
     "text": [
      "2024-04-08 16:22:06.391886: I external/local_tsl/tsl/profiler/lib/profiler_session.cc:70] Profiler session collecting data.\n",
      "2024-04-08 16:22:06.394692: E external/local_xla/xla/backends/profiler/gpu/cupti_error_manager.cc:142] cuptiFinalize: ignored due to a previous error.\n",
      "2024-04-08 16:22:06.394733: E external/local_xla/xla/backends/profiler/gpu/cupti_error_manager.cc:459] cuptiGetResultString: ignored due to a previous error.\n",
      "2024-04-08 16:22:06.394738: E external/local_xla/xla/backends/profiler/gpu/cupti_tracer.cc:2026] function cupti_interface_->Finalize()failed with error \n",
      "2024-04-08 16:22:06.425356: E external/local_xla/xla/backends/profiler/gpu/cupti_error_manager.cc:135] cuptiGetTimestamp: ignored due to a previous error.\n",
      "2024-04-08 16:22:06.425412: E external/local_xla/xla/backends/profiler/gpu/cupti_error_manager.cc:135] cuptiGetTimestamp: ignored due to a previous error.\n",
      "2024-04-08 16:22:06.425421: I external/local_xla/xla/backends/profiler/gpu/cupti_collector.cc:541]  GpuTracer has collected 0 callback api events and 0 activity events. \n",
      "2024-04-08 16:22:06.443241: I external/local_tsl/tsl/profiler/lib/profiler_session.cc:131] Profiler session tear down.\n",
      "2024-04-08 16:22:06.446278: I external/local_tsl/tsl/profiler/rpc/client/save_profile.cc:144] Collecting XSpace to repository: my_logs/run_2024_04_08_16_14_46/plugins/profile/2024_04_08_16_22_06/DESKTOP-GN6TMN5.xplane.pb\n"
     ]
    },
    {
     "name": "stdout",
     "output_type": "stream",
     "text": [
      "363/363 [==============================] - 4s 7ms/step - loss: 1.0113 - root_mean_squared_error: 1.0057 - val_loss: 0.5119 - val_root_mean_squared_error: 0.7155\n",
      "Epoch 2/30\n",
      "363/363 [==============================] - 2s 5ms/step - loss: 0.4109 - root_mean_squared_error: 0.6410 - val_loss: 1.1567 - val_root_mean_squared_error: 1.0755\n",
      "Epoch 3/30\n",
      "363/363 [==============================] - 2s 5ms/step - loss: 0.3842 - root_mean_squared_error: 0.6198 - val_loss: 0.3814 - val_root_mean_squared_error: 0.6175\n",
      "Epoch 4/30\n",
      "363/363 [==============================] - 2s 5ms/step - loss: 0.3643 - root_mean_squared_error: 0.6035 - val_loss: 0.9569 - val_root_mean_squared_error: 0.9782\n",
      "Epoch 5/30\n",
      "363/363 [==============================] - 2s 5ms/step - loss: 0.3580 - root_mean_squared_error: 0.5984 - val_loss: 0.7166 - val_root_mean_squared_error: 0.8465\n",
      "Epoch 6/30\n",
      "363/363 [==============================] - 2s 5ms/step - loss: 0.3421 - root_mean_squared_error: 0.5849 - val_loss: 0.6569 - val_root_mean_squared_error: 0.8105\n",
      "Epoch 7/30\n",
      "363/363 [==============================] - 2s 5ms/step - loss: 0.3304 - root_mean_squared_error: 0.5748 - val_loss: 1.8507 - val_root_mean_squared_error: 1.3604\n",
      "Epoch 8/30\n",
      "363/363 [==============================] - 2s 6ms/step - loss: 0.3278 - root_mean_squared_error: 0.5725 - val_loss: 4.7162 - val_root_mean_squared_error: 2.1717\n",
      "Epoch 9/30\n",
      "363/363 [==============================] - 2s 5ms/step - loss: 0.3398 - root_mean_squared_error: 0.5829 - val_loss: 1.9050 - val_root_mean_squared_error: 1.3802\n",
      "Epoch 10/30\n",
      "363/363 [==============================] - 2s 5ms/step - loss: 0.3226 - root_mean_squared_error: 0.5680 - val_loss: 0.2939 - val_root_mean_squared_error: 0.5422\n",
      "Epoch 11/30\n",
      "363/363 [==============================] - 2s 5ms/step - loss: 0.3037 - root_mean_squared_error: 0.5511 - val_loss: 0.3239 - val_root_mean_squared_error: 0.5691\n",
      "Epoch 12/30\n",
      "363/363 [==============================] - 2s 5ms/step - loss: 0.3133 - root_mean_squared_error: 0.5597 - val_loss: 0.4254 - val_root_mean_squared_error: 0.6522\n",
      "Epoch 13/30\n",
      "363/363 [==============================] - 2s 6ms/step - loss: 0.2993 - root_mean_squared_error: 0.5471 - val_loss: 0.3306 - val_root_mean_squared_error: 0.5750\n",
      "Epoch 14/30\n",
      "363/363 [==============================] - 2s 5ms/step - loss: 0.2985 - root_mean_squared_error: 0.5463 - val_loss: 0.6483 - val_root_mean_squared_error: 0.8051\n",
      "Epoch 15/30\n",
      "363/363 [==============================] - 2s 5ms/step - loss: 0.2987 - root_mean_squared_error: 0.5465 - val_loss: 1.0152 - val_root_mean_squared_error: 1.0076\n",
      "Epoch 16/30\n",
      "363/363 [==============================] - 2s 5ms/step - loss: 0.2988 - root_mean_squared_error: 0.5466 - val_loss: 1.4026 - val_root_mean_squared_error: 1.1843\n",
      "Epoch 17/30\n",
      "363/363 [==============================] - 2s 5ms/step - loss: 0.3004 - root_mean_squared_error: 0.5481 - val_loss: 0.9417 - val_root_mean_squared_error: 0.9704\n",
      "Epoch 18/30\n",
      "363/363 [==============================] - 2s 5ms/step - loss: 0.2949 - root_mean_squared_error: 0.5430 - val_loss: 3.0920 - val_root_mean_squared_error: 1.7584\n",
      "Epoch 19/30\n",
      "363/363 [==============================] - 2s 6ms/step - loss: 0.3033 - root_mean_squared_error: 0.5507 - val_loss: 1.5841 - val_root_mean_squared_error: 1.2586\n",
      "Epoch 20/30\n",
      "363/363 [==============================] - 2s 5ms/step - loss: 0.3120 - root_mean_squared_error: 0.5586 - val_loss: 2.0035 - val_root_mean_squared_error: 1.4155\n",
      "Epoch 21/30\n",
      "363/363 [==============================] - 2s 6ms/step - loss: 0.2942 - root_mean_squared_error: 0.5424 - val_loss: 0.6679 - val_root_mean_squared_error: 0.8173\n",
      "Epoch 22/30\n",
      "363/363 [==============================] - 2s 5ms/step - loss: 0.2855 - root_mean_squared_error: 0.5343 - val_loss: 0.8495 - val_root_mean_squared_error: 0.9217\n",
      "Epoch 23/30\n",
      "363/363 [==============================] - 2s 5ms/step - loss: 0.2826 - root_mean_squared_error: 0.5316 - val_loss: 0.3421 - val_root_mean_squared_error: 0.5849\n",
      "Epoch 24/30\n",
      "363/363 [==============================] - 2s 5ms/step - loss: 0.2878 - root_mean_squared_error: 0.5365 - val_loss: 1.2735 - val_root_mean_squared_error: 1.1285\n",
      "Epoch 25/30\n",
      "363/363 [==============================] - 2s 5ms/step - loss: 0.2883 - root_mean_squared_error: 0.5370 - val_loss: 0.7269 - val_root_mean_squared_error: 0.8526\n",
      "Epoch 26/30\n",
      "363/363 [==============================] - 2s 5ms/step - loss: 0.2821 - root_mean_squared_error: 0.5312 - val_loss: 1.1544 - val_root_mean_squared_error: 1.0744\n",
      "Epoch 27/30\n",
      "363/363 [==============================] - 2s 5ms/step - loss: 0.2818 - root_mean_squared_error: 0.5308 - val_loss: 0.4996 - val_root_mean_squared_error: 0.7068\n",
      "Epoch 28/30\n",
      "363/363 [==============================] - 2s 5ms/step - loss: 0.2831 - root_mean_squared_error: 0.5321 - val_loss: 0.9176 - val_root_mean_squared_error: 0.9579\n",
      "Epoch 29/30\n",
      "363/363 [==============================] - 2s 6ms/step - loss: 0.2800 - root_mean_squared_error: 0.5291 - val_loss: 0.4231 - val_root_mean_squared_error: 0.6505\n",
      "Epoch 30/30\n",
      "363/363 [==============================] - 2s 5ms/step - loss: 0.2756 - root_mean_squared_error: 0.5250 - val_loss: 0.7345 - val_root_mean_squared_error: 0.8570\n"
     ]
    }
   ],
   "source": [
    "#3\n",
    "# number of MAC operation for 3 hidden layers : \n",
    "# 8 x 30 + 30 x 30 + 30 x 30 + 30 x 1 = 2070\n",
    "# number of MAC operation for 2 hidden layers : \n",
    "# 8 x n + n x n  + n x 1 = 2070 -> n = 41\n",
    "# thank you stranger! 41 it is then!\n",
    "\n",
    "model_housing2 = tf.keras.Sequential([\n",
    "    norm_layer,\n",
    "    tf.keras.layers.Dense(41, activation=\"relu\"),\n",
    "    tf.keras.layers.Dense(41, activation=\"relu\"),\n",
    "    tf.keras.layers.Dense(1)\n",
    "])\n",
    "\n",
    "optimizer_housing2 = tf.keras.optimizers.Adam(learning_rate=1e-3)\n",
    "model_housing2.compile(loss=\"mse\", optimizer=optimizer_housing2, metrics=[\"RootMeanSquaredError\"])\n",
    "norm_layer.adapt(X_train)\n",
    "\n",
    "history_housing2 = model_housing2.fit(X_train, y_train, epochs=30,\n",
    "                                    validation_data=(X_valid, y_valid),\n",
    "                                    callbacks=[tensorboard_cb])\n"
   ]
  },
  {
   "cell_type": "code",
   "execution_count": 10,
   "outputs": [
    {
     "name": "stdout",
     "output_type": "stream",
     "text": [
      "162/162 [==============================] - 1s 4ms/step - loss: 0.2926 - root_mean_squared_error: 0.5409\n"
     ]
    },
    {
     "data": {
      "text/plain": "[0.2926132380962372, 0.5409373641014099]"
     },
     "execution_count": 10,
     "metadata": {},
     "output_type": "execute_result"
    }
   ],
   "source": [
    "model_housing2.evaluate(X_test, y_test)"
   ],
   "metadata": {
    "collapsed": false,
    "ExecuteTime": {
     "end_time": "2024-04-08T07:23:23.944382100Z",
     "start_time": "2024-04-08T07:23:23.132196Z"
    }
   }
  },
  {
   "cell_type": "code",
   "execution_count": 11,
   "metadata": {
    "ExecuteTime": {
     "end_time": "2024-04-08T07:24:29.432144300Z",
     "start_time": "2024-04-08T07:23:38.370771500Z"
    }
   },
   "outputs": [
    {
     "name": "stdout",
     "output_type": "stream",
     "text": [
      "Epoch 1/30\n",
      "135/363 [==========>...................] - ETA: 1s - loss: 1.5729 - root_mean_squared_error: 1.2541"
     ]
    },
    {
     "name": "stderr",
     "output_type": "stream",
     "text": [
      "2024-04-08 16:23:40.790380: I external/local_tsl/tsl/profiler/lib/profiler_session.cc:104] Profiler session initializing.\n",
      "2024-04-08 16:23:40.790416: I external/local_tsl/tsl/profiler/lib/profiler_session.cc:119] Profiler session started.\n",
      "2024-04-08 16:23:40.790430: E external/local_xla/xla/backends/profiler/gpu/cupti_error_manager.cc:135] cuptiGetTimestamp: ignored due to a previous error.\n",
      "2024-04-08 16:23:40.790434: E external/local_xla/xla/backends/profiler/gpu/cupti_error_manager.cc:186] cuptiSubscribe: ignored due to a previous error.\n",
      "2024-04-08 16:23:40.790436: E external/local_xla/xla/backends/profiler/gpu/cupti_error_manager.cc:459] cuptiGetResultString: ignored due to a previous error.\n",
      "2024-04-08 16:23:40.790439: E external/local_xla/xla/backends/profiler/gpu/cupti_tracer.cc:1935] function cupti_interface_->Subscribe( &subscriber_, (CUpti_CallbackFunc)ApiCallback, this)failed with error \n"
     ]
    },
    {
     "name": "stdout",
     "output_type": "stream",
     "text": [
      "223/363 [=================>............] - ETA: 0s - loss: 1.1833 - root_mean_squared_error: 1.0878"
     ]
    },
    {
     "name": "stderr",
     "output_type": "stream",
     "text": [
      "2024-04-08 16:23:41.249817: I external/local_tsl/tsl/profiler/lib/profiler_session.cc:70] Profiler session collecting data.\n",
      "2024-04-08 16:23:41.252526: E external/local_xla/xla/backends/profiler/gpu/cupti_error_manager.cc:142] cuptiFinalize: ignored due to a previous error.\n",
      "2024-04-08 16:23:41.252563: E external/local_xla/xla/backends/profiler/gpu/cupti_error_manager.cc:459] cuptiGetResultString: ignored due to a previous error.\n",
      "2024-04-08 16:23:41.252568: E external/local_xla/xla/backends/profiler/gpu/cupti_tracer.cc:2026] function cupti_interface_->Finalize()failed with error \n",
      "2024-04-08 16:23:41.280651: E external/local_xla/xla/backends/profiler/gpu/cupti_error_manager.cc:135] cuptiGetTimestamp: ignored due to a previous error.\n",
      "2024-04-08 16:23:41.280708: E external/local_xla/xla/backends/profiler/gpu/cupti_error_manager.cc:135] cuptiGetTimestamp: ignored due to a previous error.\n",
      "2024-04-08 16:23:41.280718: I external/local_xla/xla/backends/profiler/gpu/cupti_collector.cc:541]  GpuTracer has collected 0 callback api events and 0 activity events. \n",
      "2024-04-08 16:23:41.294920: I external/local_tsl/tsl/profiler/lib/profiler_session.cc:131] Profiler session tear down.\n",
      "2024-04-08 16:23:41.297740: I external/local_tsl/tsl/profiler/rpc/client/save_profile.cc:144] Collecting XSpace to repository: my_logs/run_2024_04_08_16_14_46/plugins/profile/2024_04_08_16_23_41/DESKTOP-GN6TMN5.xplane.pb\n"
     ]
    },
    {
     "name": "stdout",
     "output_type": "stream",
     "text": [
      "363/363 [==============================] - 3s 6ms/step - loss: 0.9155 - root_mean_squared_error: 0.9568 - val_loss: 1.4262 - val_root_mean_squared_error: 1.1942\n",
      "Epoch 2/30\n",
      "363/363 [==============================] - 2s 5ms/step - loss: 0.4231 - root_mean_squared_error: 0.6505 - val_loss: 3.0023 - val_root_mean_squared_error: 1.7327\n",
      "Epoch 3/30\n",
      "363/363 [==============================] - 2s 4ms/step - loss: 0.4208 - root_mean_squared_error: 0.6487 - val_loss: 0.7390 - val_root_mean_squared_error: 0.8597\n",
      "Epoch 4/30\n",
      "363/363 [==============================] - 1s 4ms/step - loss: 0.3679 - root_mean_squared_error: 0.6065 - val_loss: 0.6363 - val_root_mean_squared_error: 0.7977\n",
      "Epoch 5/30\n",
      "363/363 [==============================] - 2s 5ms/step - loss: 0.3663 - root_mean_squared_error: 0.6052 - val_loss: 2.5554 - val_root_mean_squared_error: 1.5986\n",
      "Epoch 6/30\n",
      "363/363 [==============================] - 2s 5ms/step - loss: 0.3712 - root_mean_squared_error: 0.6092 - val_loss: 3.7040 - val_root_mean_squared_error: 1.9246\n",
      "Epoch 7/30\n",
      "363/363 [==============================] - 2s 5ms/step - loss: 0.3821 - root_mean_squared_error: 0.6181 - val_loss: 4.4455 - val_root_mean_squared_error: 2.1084\n",
      "Epoch 8/30\n",
      "363/363 [==============================] - 1s 4ms/step - loss: 0.3551 - root_mean_squared_error: 0.5959 - val_loss: 5.7514 - val_root_mean_squared_error: 2.3982\n",
      "Epoch 9/30\n",
      "363/363 [==============================] - 2s 5ms/step - loss: 0.3640 - root_mean_squared_error: 0.6033 - val_loss: 6.7160 - val_root_mean_squared_error: 2.5915\n",
      "Epoch 10/30\n",
      "363/363 [==============================] - 1s 4ms/step - loss: 0.3904 - root_mean_squared_error: 0.6249 - val_loss: 4.3822 - val_root_mean_squared_error: 2.0934\n",
      "Epoch 11/30\n",
      "363/363 [==============================] - 2s 5ms/step - loss: 0.3532 - root_mean_squared_error: 0.5943 - val_loss: 0.6201 - val_root_mean_squared_error: 0.7875\n",
      "Epoch 12/30\n",
      "363/363 [==============================] - 2s 4ms/step - loss: 0.3522 - root_mean_squared_error: 0.5935 - val_loss: 1.8429 - val_root_mean_squared_error: 1.3575\n",
      "Epoch 13/30\n",
      "363/363 [==============================] - 2s 5ms/step - loss: 0.3337 - root_mean_squared_error: 0.5777 - val_loss: 1.1294 - val_root_mean_squared_error: 1.0627\n",
      "Epoch 14/30\n",
      "363/363 [==============================] - 1s 4ms/step - loss: 0.3213 - root_mean_squared_error: 0.5668 - val_loss: 1.2009 - val_root_mean_squared_error: 1.0959\n",
      "Epoch 15/30\n",
      "363/363 [==============================] - 2s 5ms/step - loss: 0.3214 - root_mean_squared_error: 0.5669 - val_loss: 1.7577 - val_root_mean_squared_error: 1.3258\n",
      "Epoch 16/30\n",
      "363/363 [==============================] - 2s 4ms/step - loss: 0.3203 - root_mean_squared_error: 0.5660 - val_loss: 2.1423 - val_root_mean_squared_error: 1.4636\n",
      "Epoch 17/30\n",
      "363/363 [==============================] - 2s 5ms/step - loss: 0.3245 - root_mean_squared_error: 0.5696 - val_loss: 3.6613 - val_root_mean_squared_error: 1.9134\n",
      "Epoch 18/30\n",
      "363/363 [==============================] - 2s 4ms/step - loss: 0.3269 - root_mean_squared_error: 0.5717 - val_loss: 7.3069 - val_root_mean_squared_error: 2.7031\n",
      "Epoch 19/30\n",
      "363/363 [==============================] - 2s 4ms/step - loss: 0.3505 - root_mean_squared_error: 0.5920 - val_loss: 4.7865 - val_root_mean_squared_error: 2.1878\n",
      "Epoch 20/30\n",
      "363/363 [==============================] - 2s 4ms/step - loss: 0.3775 - root_mean_squared_error: 0.6144 - val_loss: 2.7127 - val_root_mean_squared_error: 1.6470\n",
      "Epoch 21/30\n",
      "363/363 [==============================] - 2s 4ms/step - loss: 0.3218 - root_mean_squared_error: 0.5673 - val_loss: 1.1008 - val_root_mean_squared_error: 1.0492\n",
      "Epoch 22/30\n",
      "363/363 [==============================] - 1s 4ms/step - loss: 0.3042 - root_mean_squared_error: 0.5515 - val_loss: 1.0662 - val_root_mean_squared_error: 1.0326\n",
      "Epoch 23/30\n",
      "363/363 [==============================] - 2s 5ms/step - loss: 0.3021 - root_mean_squared_error: 0.5496 - val_loss: 0.3459 - val_root_mean_squared_error: 0.5881\n",
      "Epoch 24/30\n",
      "363/363 [==============================] - 2s 4ms/step - loss: 0.3067 - root_mean_squared_error: 0.5538 - val_loss: 2.5746 - val_root_mean_squared_error: 1.6046\n",
      "Epoch 25/30\n",
      "363/363 [==============================] - 2s 4ms/step - loss: 0.3173 - root_mean_squared_error: 0.5633 - val_loss: 2.2876 - val_root_mean_squared_error: 1.5125\n",
      "Epoch 26/30\n",
      "363/363 [==============================] - 2s 4ms/step - loss: 0.3091 - root_mean_squared_error: 0.5560 - val_loss: 3.0610 - val_root_mean_squared_error: 1.7496\n",
      "Epoch 27/30\n",
      "363/363 [==============================] - 2s 4ms/step - loss: 0.3169 - root_mean_squared_error: 0.5629 - val_loss: 1.5111 - val_root_mean_squared_error: 1.2293\n",
      "Epoch 28/30\n",
      "363/363 [==============================] - 2s 5ms/step - loss: 0.3215 - root_mean_squared_error: 0.5670 - val_loss: 3.1688 - val_root_mean_squared_error: 1.7801\n",
      "Epoch 29/30\n",
      "363/363 [==============================] - 2s 4ms/step - loss: 0.3177 - root_mean_squared_error: 0.5637 - val_loss: 2.0616 - val_root_mean_squared_error: 1.4358\n",
      "Epoch 30/30\n",
      "363/363 [==============================] - 1s 4ms/step - loss: 0.3057 - root_mean_squared_error: 0.5529 - val_loss: 1.4025 - val_root_mean_squared_error: 1.1843\n"
     ]
    }
   ],
   "source": [
    "#4\n",
    "# number of MAC operation for 1 hidden layers : \n",
    "# 8 x n + n x 1 = 2070 -> n = 230\n",
    "# thank you stranger! 230 it is then!\n",
    "\n",
    "model_housing3 = tf.keras.Sequential([\n",
    "    norm_layer,\n",
    "    tf.keras.layers.Dense(230, activation=\"relu\"),\n",
    "    tf.keras.layers.Dense(1)\n",
    "])\n",
    "\n",
    "optimizer_housing3 = tf.keras.optimizers.Adam(learning_rate=1e-3)\n",
    "model_housing3.compile(loss=\"mse\", optimizer=optimizer_housing3, metrics=[\"RootMeanSquaredError\"])\n",
    "norm_layer.adapt(X_train)\n",
    "\n",
    "history_housing3 = model_housing3.fit(X_train, y_train, epochs=30,\n",
    "                                    validation_data=(X_valid, y_valid),\n",
    "                                    callbacks=[tensorboard_cb])\n",
    "\n"
   ]
  },
  {
   "cell_type": "code",
   "execution_count": 12,
   "outputs": [
    {
     "name": "stdout",
     "output_type": "stream",
     "text": [
      "162/162 [==============================] - 1s 4ms/step - loss: 0.3061 - root_mean_squared_error: 0.5533\n"
     ]
    },
    {
     "data": {
      "text/plain": "[0.30612361431121826, 0.5532843470573425]"
     },
     "execution_count": 12,
     "metadata": {},
     "output_type": "execute_result"
    }
   ],
   "source": [
    "model_housing3.evaluate(X_test, y_test)"
   ],
   "metadata": {
    "collapsed": false,
    "ExecuteTime": {
     "end_time": "2024-04-08T07:24:51.791332500Z",
     "start_time": "2024-04-08T07:24:51.021987800Z"
    }
   }
  },
  {
   "cell_type": "code",
   "execution_count": 13,
   "outputs": [
    {
     "name": "stdout",
     "output_type": "stream",
     "text": [
      "my_logs\n",
      "  run_2024_04_08_16_14_46\n",
      "    plugins\n",
      "      profile\n",
      "        2024_04_08_16_16_54\n",
      "          DESKTOP-GN6TMN5.xplane.pb\n",
      "        2024_04_08_16_22_06\n",
      "          DESKTOP-GN6TMN5.xplane.pb\n",
      "        2024_04_08_16_23_41\n",
      "          DESKTOP-GN6TMN5.xplane.pb\n",
      "    train\n",
      "      events.out.tfevents.1712560604.DESKTOP-GN6TMN5.14348.0.v2\n",
      "      events.out.tfevents.1712560924.DESKTOP-GN6TMN5.14348.2.v2\n",
      "      events.out.tfevents.1712561019.DESKTOP-GN6TMN5.14348.4.v2\n",
      "    validation\n",
      "      events.out.tfevents.1712560615.DESKTOP-GN6TMN5.14348.1.v2\n",
      "      events.out.tfevents.1712560927.DESKTOP-GN6TMN5.14348.3.v2\n",
      "      events.out.tfevents.1712561022.DESKTOP-GN6TMN5.14348.5.v2\n"
     ]
    }
   ],
   "source": [
    "# check\n",
    "\n",
    "print(\"my_logs\")\n",
    "for path in sorted(Path(\"my_logs\").glob(\"**/*\")):\n",
    "    print(\"  \" * (len(path.parts) - 1) + path.parts[-1])"
   ],
   "metadata": {
    "collapsed": false,
    "ExecuteTime": {
     "end_time": "2024-04-08T07:24:59.920200800Z",
     "start_time": "2024-04-08T07:24:59.810873900Z"
    }
   }
  },
  {
   "cell_type": "code",
   "execution_count": 14,
   "outputs": [
    {
     "data": {
      "text/plain": "Launching TensorBoard..."
     },
     "metadata": {},
     "output_type": "display_data"
    },
    {
     "data": {
      "text/plain": "<IPython.core.display.HTML object>",
      "text/html": "\n      <iframe id=\"tensorboard-frame-4759bef3aa3200a2\" width=\"100%\" height=\"800\" frameborder=\"0\">\n      </iframe>\n      <script>\n        (function() {\n          const frame = document.getElementById(\"tensorboard-frame-4759bef3aa3200a2\");\n          const url = new URL(\"/\", window.location);\n          const port = 6006;\n          if (port) {\n            url.port = port;\n          }\n          frame.src = url;\n        })();\n      </script>\n    "
     },
     "metadata": {},
     "output_type": "display_data"
    }
   ],
   "source": [
    "%load_ext tensorboard\n",
    "%tensorboard --logdir=./my_logs"
   ],
   "metadata": {
    "collapsed": false,
    "ExecuteTime": {
     "end_time": "2024-04-08T07:25:29.500618900Z",
     "start_time": "2024-04-08T07:25:29.391243900Z"
    }
   }
  },
  {
   "cell_type": "markdown",
   "source": [
    "#5\n",
    "\n",
    "## 결과 분석\n",
    "각 layer와 loss / rmse 를 보면\n",
    "1. (30,30,30) : **0.2880, 0.5366**\n",
    "2. (41,41) : **0.2926, 0.5409**\n",
    "3. (230) : **0.3061, 0.5533**\n",
    "\n",
    "으로, 연산량이 같음에도 hidden layer 층수가 줄어들수록 오차율이 증가함을 확인 할 수가 있다.\n",
    "추가로 tensorboard를 통해 learning curve를 확인해 보면 모두 train과 validation 사이에 값이 차이가 큰 것을 확인할 수가 있다(overfit).\n",
    "그리고 step에 따라 validation 쪽의 값이 매우 크게 요동치는 것을 확인할 수가 있는데, 확실하지는 않지만 validation 쪽 dataset 값들이 표준편차가 큰 것으로 추정된다.\n"
   ],
   "metadata": {
    "collapsed": false
   }
  },
  {
   "cell_type": "code",
   "execution_count": 15,
   "outputs": [],
   "source": [
    "tf.keras.backend.clear_session()"
   ],
   "metadata": {
    "collapsed": false,
    "ExecuteTime": {
     "end_time": "2024-04-08T07:38:51.217298700Z",
     "start_time": "2024-04-08T07:38:51.099656900Z"
    }
   }
  },
  {
   "cell_type": "code",
   "execution_count": 20,
   "outputs": [
    {
     "data": {
      "text/plain": "True"
     },
     "execution_count": 20,
     "metadata": {},
     "output_type": "execute_result"
    }
   ],
   "source": [
    "import keras\n",
    "\n",
    "version.parse(keras.__version__) >= version.parse(\"3.0.0\")"
   ],
   "metadata": {
    "collapsed": false,
    "ExecuteTime": {
     "end_time": "2024-04-08T07:46:13.729180800Z",
     "start_time": "2024-04-08T07:46:13.682307100Z"
    }
   }
  },
  {
   "cell_type": "code",
   "execution_count": null,
   "outputs": [],
   "source": [],
   "metadata": {
    "collapsed": false
   }
  }
 ],
 "metadata": {
  "kernelspec": {
   "display_name": "Python 3 (ipykernel)",
   "language": "python",
   "name": "python3"
  },
  "language_info": {
   "codemirror_mode": {
    "name": "ipython",
    "version": 3
   },
   "file_extension": ".py",
   "mimetype": "text/x-python",
   "name": "python",
   "nbconvert_exporter": "python",
   "pygments_lexer": "ipython3",
   "version": "3.9.7"
  },
  "nav_menu": {
   "height": "264px",
   "width": "369px"
  },
  "toc": {
   "navigate_menu": true,
   "number_sections": true,
   "sideBar": true,
   "threshold": 6.0,
   "toc_cell": false,
   "toc_section_display": "block",
   "toc_window_display": false
  }
 },
 "nbformat": 4,
 "nbformat_minor": 4
}
